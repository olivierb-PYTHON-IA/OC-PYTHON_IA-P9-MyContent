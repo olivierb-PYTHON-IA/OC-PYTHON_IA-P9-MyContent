{
 "cells": [
  {
   "cell_type": "markdown",
   "id": "785b5d5a",
   "metadata": {},
   "source": [
    "# OpenClassrooms - Ingenieur IA\n",
    "# Projet 9 - My Content - Partie 2 : Modélisation et évaluation\n",
    "# Réalisez une application mobile de recommandation de contenu\n",
    "\n",
    "## Objectif du projet : \n",
    "- **Réalisez une application mobile de recommandation de contenu**\n",
    "\n",
    "## Plan :\n",
    "- **Partie 1 : Analyse et préparation des données**\n",
    "    - Chargement des données\n",
    "    - Analyse Exploratoire des Données\n",
    "    - Nettoyage des données\n",
    "    - Séparation des données\n",
    "    - Sauvegarde des données préparées\n",
    "     \n",
    "    \n",
    "- **Partie 2 : Modélisation et évaluation**\n",
    "    - Baseline recommandation\n",
    "        - Modèle basé sur la popularité des articles\n",
    "    - Content Based recommandation\n",
    "        - Modèle basé sur la catégorie des articles\n",
    "        - Modèle basé sur la similarité entre les articles\n",
    "    - Collaborative Filtering recommandation\n",
    "        - Model based\n",
    "            - ALS Model\n",
    "            - BPR Model\n",
    "            - LMF Model\n",
    "        - Memory based\n",
    "            - Nearest Neighbours with Cosine Recommender Model\n",
    "    - Récapitulatif et choix du meilleur modèle\n",
    "    \n",
    "    \n",
    "- **Partie 3 : Préparation au déploiement**\n",
    "    - Récupération du Workpsace Azure\n",
    "    - Identifications des éléments\n",
    "    - Enregistrement des données nécessaires au déploiement dans Azure"
   ]
  },
  {
   "cell_type": "markdown",
   "id": "98226dc6",
   "metadata": {},
   "source": [
    "## Remarque préliminaire :\n",
    "- **Le code est découpé en fonctions, ce qui permet une meilleure lisibilité et une meilleure maintenabilité du code**"
   ]
  },
  {
   "cell_type": "code",
   "execution_count": 1,
   "id": "7810eb7b",
   "metadata": {},
   "outputs": [],
   "source": [
    "import numpy as np\n",
    "import pandas as pd\n",
    "import matplotlib.pyplot as plt\n",
    "import math\n",
    "import os\n",
    "import pickle\n",
    "\n",
    "import implicit\n",
    "\n",
    "from sklearn.metrics.pairwise import cosine_similarity\n",
    "from scipy.sparse import csr_matrix"
   ]
  },
  {
   "cell_type": "markdown",
   "id": "e8b9aed5",
   "metadata": {},
   "source": [
    "# Partie 2 : Modélisation et évaluation"
   ]
  },
  {
   "cell_type": "markdown",
   "id": "d2bb6558",
   "metadata": {},
   "source": [
    "## Chargement des données préparées"
   ]
  },
  {
   "cell_type": "code",
   "execution_count": 2,
   "id": "81bb3f06",
   "metadata": {},
   "outputs": [],
   "source": [
    "df_data = pd.read_csv('bookshelf_dataset.csv')\n",
    "df_data_train = pd.read_csv('bookshelf_dataset_train.csv')\n",
    "df_data_test = pd.read_csv('bookshelf_dataset_test.csv')"
   ]
  },
  {
   "cell_type": "markdown",
   "id": "6a89d0c3",
   "metadata": {},
   "source": [
    "##### Pour les systèmes de recommandation, il y a 2 types de 'ratings' :\n",
    "- Ratings **explicites** : les utilisateurs mettent des notes aux items en fonction de leur satisfaction (note sur 5 par exemple)\n",
    "- Ratings **implicites** : on utilise les interactions des utilisateurs avec les items (nombre de clicks par exemple)\n",
    "> Ces ratings permettent de voir quels sont les items appréciés des utilisateurs et ainsi de dégager leur profil. Ce profil sera utilisé pour leur recommander d'autres articles\n",
    "> **Dans notre projet, nous avons à faire à des rationgs implicites : ce sont les interations des utilisateurs avec les articles**"
   ]
  },
  {
   "cell_type": "markdown",
   "id": "77727748",
   "metadata": {},
   "source": [
    "## Baseline recommandation"
   ]
  },
  {
   "cell_type": "markdown",
   "id": "ab4081be",
   "metadata": {},
   "source": [
    "### Modèle basé sur la popularité des articles\n",
    "- Ce premier modèle recommande les articles les plus populaires non déjà lus par l'utilisateur\n",
    "- Ce modèle ne dépend pas du profil de l'utilisateur\n",
    "- Ce premier modèle simple nous servira de **référence**\n",
    "- Il pourrait également être utilisé dans les cas de Cold Start quand on ne dispose de pas assez d'informations pour faire une recommandation personnalisée à l'utilisateur"
   ]
  },
  {
   "cell_type": "markdown",
   "id": "6f40e835",
   "metadata": {},
   "source": [
    "#### Get all articles already read for a user"
   ]
  },
  {
   "cell_type": "code",
   "execution_count": 3,
   "id": "6e968a99",
   "metadata": {},
   "outputs": [],
   "source": [
    "def get_articles_already_read_for_user(user_id):\n",
    "    articles_already_read = df_data_train[df_data_train['user_id']==user_id]['article_id'].unique().tolist()\n",
    "    return articles_already_read"
   ]
  },
  {
   "cell_type": "markdown",
   "id": "44ef521a",
   "metadata": {},
   "source": [
    "#### Get most popular articles"
   ]
  },
  {
   "cell_type": "code",
   "execution_count": 4,
   "id": "31317c6b",
   "metadata": {},
   "outputs": [],
   "source": [
    "def get_most_popular_articles():\n",
    "    most_popular_articles = df_data_train['article_id'].value_counts().index.to_list()\n",
    "    return most_popular_articles"
   ]
  },
  {
   "cell_type": "markdown",
   "id": "cf150ba9",
   "metadata": {},
   "source": [
    "#### Get n recommandations based on articles popularity"
   ]
  },
  {
   "cell_type": "code",
   "execution_count": 5,
   "id": "f0b5f683",
   "metadata": {},
   "outputs": [],
   "source": [
    "def get_recommendations_articles_popularity(user_id, top_n):\n",
    "    most_popular_articles = get_most_popular_articles()\n",
    "    articles_already_read_for_user = get_articles_already_read_for_user(user_id)\n",
    "    most_popular_articles_not_already_read = [i for i in most_popular_articles if i not in set(articles_already_read_for_user)]\n",
    "    top_n_most_popular_articles_not_already_read = most_popular_articles_not_already_read[:top_n]\n",
    "    \n",
    "    return top_n_most_popular_articles_not_already_read"
   ]
  },
  {
   "cell_type": "code",
   "execution_count": 6,
   "id": "ae1ef779",
   "metadata": {},
   "outputs": [
    {
     "name": "stdout",
     "output_type": "stream",
     "text": [
      "Wall time: 77 ms\n"
     ]
    },
    {
     "data": {
      "text/plain": [
       "[160974, 272143, 123909, 162655, 64329]"
      ]
     },
     "execution_count": 6,
     "metadata": {},
     "output_type": "execute_result"
    }
   ],
   "source": [
    "%%time\n",
    "get_recommendations_articles_popularity(1, 5)"
   ]
  },
  {
   "cell_type": "markdown",
   "id": "548e95dd",
   "metadata": {},
   "source": [
    "### Evaluation\n",
    "- **Métrique dédiée** au projet :\n",
    "    - Les métriques classiques de type accuracy, recall ou précision ne sont pas adaptées aux problèmes de recommandations et en particulier à notre projet\n",
    "    - Nous avons donc implémenté notre propre métrique dédiée à notre problématique ***(voir fichier Excel explicatif)*** :\n",
    "        - 1 - sur les n recommandations faites à partir des données du jeu d'entrainement, on compte avec combien l'utilisateur a interagi dans le jeu de test (nombre d'interactions des articles recommandés dans le jeu de test)\n",
    "        - 2 - afin de tenir compte du nombre d'articles effectivement lus par l'utilisateur, on corrige en divisant le nombre d'interactions par le nombre d'articles lus par l'utilisateur dans le jeu de test (s'il n'y a aucun article lu par l'utilisateur, la correction est adaptée pour éviter une division par 0)\n",
    "        - 3 - on normalise la mesure en divisant le résultat obtenu par le nombre d'utilisateurs de l'évaluation\n",
    "        - 4 - on multiplie par un coefficient pour avoir un résultat plus lisible\n",
    "> **La métrique dédiée correspond donc au nombre d'interactions avec les articles recommandés de l'utilisateur dans le jeu de test, corrigé par le nombre d'articles lus dans le jeu de test et normalisé par le nombre d'utilisateurs**"
   ]
  },
  {
   "cell_type": "code",
   "execution_count": 7,
   "id": "a399a054",
   "metadata": {},
   "outputs": [],
   "source": [
    "nb_recommandations = 5\n",
    "nb_users = 10000"
   ]
  },
  {
   "cell_type": "markdown",
   "id": "e5a9fbb0",
   "metadata": {},
   "source": [
    "#### Get all articles read for a user in test set"
   ]
  },
  {
   "cell_type": "code",
   "execution_count": 8,
   "id": "363e1721",
   "metadata": {},
   "outputs": [],
   "source": [
    "def get_articles_read_for_user_in_test_set(user_id):\n",
    "    articles_read_test_set = df_data_test[df_data_test['user_id']==user_id]['article_id'].unique().tolist() #.values()\n",
    "    return articles_read_test_set"
   ]
  },
  {
   "cell_type": "markdown",
   "id": "99819393",
   "metadata": {},
   "source": [
    "#### Get number of articles read for a user in test set"
   ]
  },
  {
   "cell_type": "code",
   "execution_count": 9,
   "id": "25c4bd3b",
   "metadata": {},
   "outputs": [],
   "source": [
    "def get_nb_articles_read_for_user_in_test_set(user_id):\n",
    "    nb_articles_read_for_user_in_test_set = len(get_articles_read_for_user_in_test_set(user_id))\n",
    "    return nb_articles_read_for_user_in_test_set"
   ]
  },
  {
   "cell_type": "markdown",
   "id": "75b5e6af",
   "metadata": {},
   "source": [
    "#### Fonction permettant de faire l'évaluation pour tous les modèles de la famille Content Based\n",
    "- Implémente la **métrique dédiée**"
   ]
  },
  {
   "cell_type": "code",
   "execution_count": 10,
   "id": "6935aaed",
   "metadata": {},
   "outputs": [],
   "source": [
    "def evaluation_recommendations_content_based_models(nb_recommandations, nb_users, get_recommendations_content_based, cosine_similarities_matrix=None):\n",
    "    if nb_users<=0:\n",
    "        print(\"Nb users shall be > 0\")\n",
    "    else:\n",
    "        unique_users_id = df_data_train['user_id'].unique().tolist()\n",
    "        nb_interactions_total = 0\n",
    "        metric_total = 0\n",
    "        i=0\n",
    "        for user_id in unique_users_id:\n",
    "            if i==nb_users:\n",
    "                break\n",
    "                \n",
    "            if cosine_similarities_matrix is None:\n",
    "                recommandations = get_recommendations_content_based(user_id, nb_recommandations)\n",
    "            else:\n",
    "                recommandations = get_recommendations_content_based(user_id, nb_recommandations, cosine_similarities_matrix)\n",
    "            \n",
    "            articles_read_for_user_in_test_set = get_articles_read_for_user_in_test_set(user_id)\n",
    "            nb_interactions_for_user = sum(x in articles_read_for_user_in_test_set for x in recommandations)\n",
    "            nb_interactions_total += nb_interactions_for_user\n",
    "            \n",
    "            nb_articles_read_for_user_in_test_set = get_nb_articles_read_for_user_in_test_set(user_id)\n",
    "            \n",
    "            if nb_articles_read_for_user_in_test_set == 0 :\n",
    "                metric_for_user = nb_interactions_for_user / ((nb_articles_read_for_user_in_test_set + 1) * 2)\n",
    "            else :\n",
    "                metric_for_user = nb_interactions_for_user / nb_articles_read_for_user_in_test_set\n",
    "            \n",
    "            metric_total += metric_for_user\n",
    "            i+=1\n",
    "            \n",
    "        metric_normalized = metric_total / nb_users * 10000\n",
    "        \n",
    "        return nb_interactions_total, metric_normalized"
   ]
  },
  {
   "cell_type": "code",
   "execution_count": 11,
   "id": "85adea04",
   "metadata": {},
   "outputs": [],
   "source": [
    "nb_interactions_baseline_popularity, metric_baseline_popularity = evaluation_recommendations_content_based_models(nb_recommandations, nb_users, get_recommendations_articles_popularity)"
   ]
  },
  {
   "cell_type": "code",
   "execution_count": 12,
   "id": "034675eb",
   "metadata": {},
   "outputs": [
    {
     "name": "stdout",
     "output_type": "stream",
     "text": [
      "Evaluation Metric = 0.55\n"
     ]
    }
   ],
   "source": [
    "print(f\"Evaluation Metric = {metric_baseline_popularity:.2f}\")"
   ]
  },
  {
   "cell_type": "markdown",
   "id": "41545d20",
   "metadata": {},
   "source": [
    "## Content Based recommandation"
   ]
  },
  {
   "cell_type": "markdown",
   "id": "96dfe982",
   "metadata": {},
   "source": [
    "##### Pour ce type de recommandation, les recommandations faites sont basées sur (i) les interactions utilisateurs-articles et (ii) la similarité entre les contenus :\n",
    "- On détermine tout d'abord un profil utilisateur => on détermine les items aimés par l'utilisateur (c'est à dire les items avec lesquels il a intéragi)\n",
    "- On détermine les items similaires => on utilise pour cela une mesure de similarité\n",
    "- On recommande à l'utilisateur les items similaires à ceux qu'il aime (à son profil)"
   ]
  },
  {
   "cell_type": "markdown",
   "id": "778b55fa",
   "metadata": {},
   "source": [
    "### Modèle basé sur la catégorie des articles \n",
    "- Profil des utilisateurs : basé sur la catégorie préférée\n",
    "- Similarité : basée sur la similarité des catégories des articles "
   ]
  },
  {
   "cell_type": "code",
   "execution_count": 13,
   "id": "7646c515",
   "metadata": {},
   "outputs": [
    {
     "data": {
      "text/html": [
       "<div>\n",
       "<style scoped>\n",
       "    .dataframe tbody tr th:only-of-type {\n",
       "        vertical-align: middle;\n",
       "    }\n",
       "\n",
       "    .dataframe tbody tr th {\n",
       "        vertical-align: top;\n",
       "    }\n",
       "\n",
       "    .dataframe thead th {\n",
       "        text-align: right;\n",
       "    }\n",
       "</style>\n",
       "<table border=\"1\" class=\"dataframe\">\n",
       "  <thead>\n",
       "    <tr style=\"text-align: right;\">\n",
       "      <th></th>\n",
       "      <th>user_id</th>\n",
       "      <th>click_timestamp</th>\n",
       "      <th>click_country</th>\n",
       "      <th>click_region</th>\n",
       "      <th>article_id</th>\n",
       "      <th>category_id</th>\n",
       "      <th>words_count</th>\n",
       "      <th>click_datetime</th>\n",
       "    </tr>\n",
       "  </thead>\n",
       "  <tbody>\n",
       "    <tr>\n",
       "      <th>0</th>\n",
       "      <td>59</td>\n",
       "      <td>1506826800026</td>\n",
       "      <td>1</td>\n",
       "      <td>21</td>\n",
       "      <td>234853</td>\n",
       "      <td>375</td>\n",
       "      <td>140</td>\n",
       "      <td>2017-10-01 03:00:00.026</td>\n",
       "    </tr>\n",
       "    <tr>\n",
       "      <th>1</th>\n",
       "      <td>154</td>\n",
       "      <td>1506826804207</td>\n",
       "      <td>1</td>\n",
       "      <td>25</td>\n",
       "      <td>96663</td>\n",
       "      <td>209</td>\n",
       "      <td>206</td>\n",
       "      <td>2017-10-01 03:00:04.207</td>\n",
       "    </tr>\n",
       "    <tr>\n",
       "      <th>2</th>\n",
       "      <td>111</td>\n",
       "      <td>1506826814140</td>\n",
       "      <td>1</td>\n",
       "      <td>9</td>\n",
       "      <td>202436</td>\n",
       "      <td>327</td>\n",
       "      <td>333</td>\n",
       "      <td>2017-10-01 03:00:14.140</td>\n",
       "    </tr>\n",
       "    <tr>\n",
       "      <th>3</th>\n",
       "      <td>133</td>\n",
       "      <td>1506826823065</td>\n",
       "      <td>1</td>\n",
       "      <td>13</td>\n",
       "      <td>284847</td>\n",
       "      <td>412</td>\n",
       "      <td>266</td>\n",
       "      <td>2017-10-01 03:00:23.065</td>\n",
       "    </tr>\n",
       "    <tr>\n",
       "      <th>4</th>\n",
       "      <td>59</td>\n",
       "      <td>1506826830026</td>\n",
       "      <td>1</td>\n",
       "      <td>21</td>\n",
       "      <td>234995</td>\n",
       "      <td>375</td>\n",
       "      <td>155</td>\n",
       "      <td>2017-10-01 03:00:30.026</td>\n",
       "    </tr>\n",
       "    <tr>\n",
       "      <th>...</th>\n",
       "      <td>...</td>\n",
       "      <td>...</td>\n",
       "      <td>...</td>\n",
       "      <td>...</td>\n",
       "      <td>...</td>\n",
       "      <td>...</td>\n",
       "      <td>...</td>\n",
       "      <td>...</td>\n",
       "    </tr>\n",
       "    <tr>\n",
       "      <th>1033991</th>\n",
       "      <td>119210</td>\n",
       "      <td>1507506684388</td>\n",
       "      <td>1</td>\n",
       "      <td>20</td>\n",
       "      <td>233658</td>\n",
       "      <td>375</td>\n",
       "      <td>149</td>\n",
       "      <td>2017-10-08 23:51:24.388</td>\n",
       "    </tr>\n",
       "    <tr>\n",
       "      <th>1033992</th>\n",
       "      <td>235646</td>\n",
       "      <td>1507506685571</td>\n",
       "      <td>1</td>\n",
       "      <td>25</td>\n",
       "      <td>129434</td>\n",
       "      <td>252</td>\n",
       "      <td>168</td>\n",
       "      <td>2017-10-08 23:51:25.571</td>\n",
       "    </tr>\n",
       "    <tr>\n",
       "      <th>1033993</th>\n",
       "      <td>2504</td>\n",
       "      <td>1507506686115</td>\n",
       "      <td>1</td>\n",
       "      <td>25</td>\n",
       "      <td>202632</td>\n",
       "      <td>327</td>\n",
       "      <td>189</td>\n",
       "      <td>2017-10-08 23:51:26.115</td>\n",
       "    </tr>\n",
       "    <tr>\n",
       "      <th>1033994</th>\n",
       "      <td>25029</td>\n",
       "      <td>1507506686811</td>\n",
       "      <td>1</td>\n",
       "      <td>25</td>\n",
       "      <td>272202</td>\n",
       "      <td>399</td>\n",
       "      <td>206</td>\n",
       "      <td>2017-10-08 23:51:26.811</td>\n",
       "    </tr>\n",
       "    <tr>\n",
       "      <th>1033995</th>\n",
       "      <td>1445</td>\n",
       "      <td>1507506687423</td>\n",
       "      <td>1</td>\n",
       "      <td>5</td>\n",
       "      <td>286350</td>\n",
       "      <td>412</td>\n",
       "      <td>197</td>\n",
       "      <td>2017-10-08 23:51:27.423</td>\n",
       "    </tr>\n",
       "  </tbody>\n",
       "</table>\n",
       "<p>1033996 rows × 8 columns</p>\n",
       "</div>"
      ],
      "text/plain": [
       "         user_id  click_timestamp  click_country  click_region  article_id  \\\n",
       "0             59    1506826800026              1            21      234853   \n",
       "1            154    1506826804207              1            25       96663   \n",
       "2            111    1506826814140              1             9      202436   \n",
       "3            133    1506826823065              1            13      284847   \n",
       "4             59    1506826830026              1            21      234995   \n",
       "...          ...              ...            ...           ...         ...   \n",
       "1033991   119210    1507506684388              1            20      233658   \n",
       "1033992   235646    1507506685571              1            25      129434   \n",
       "1033993     2504    1507506686115              1            25      202632   \n",
       "1033994    25029    1507506686811              1            25      272202   \n",
       "1033995     1445    1507506687423              1             5      286350   \n",
       "\n",
       "         category_id  words_count           click_datetime  \n",
       "0                375          140  2017-10-01 03:00:00.026  \n",
       "1                209          206  2017-10-01 03:00:04.207  \n",
       "2                327          333  2017-10-01 03:00:14.140  \n",
       "3                412          266  2017-10-01 03:00:23.065  \n",
       "4                375          155  2017-10-01 03:00:30.026  \n",
       "...              ...          ...                      ...  \n",
       "1033991          375          149  2017-10-08 23:51:24.388  \n",
       "1033992          252          168  2017-10-08 23:51:25.571  \n",
       "1033993          327          189  2017-10-08 23:51:26.115  \n",
       "1033994          399          206  2017-10-08 23:51:26.811  \n",
       "1033995          412          197  2017-10-08 23:51:27.423  \n",
       "\n",
       "[1033996 rows x 8 columns]"
      ]
     },
     "execution_count": 13,
     "metadata": {},
     "output_type": "execute_result"
    }
   ],
   "source": [
    "df_data_train"
   ]
  },
  {
   "cell_type": "code",
   "execution_count": 14,
   "id": "c0be2562",
   "metadata": {},
   "outputs": [
    {
     "name": "stdout",
     "output_type": "stream",
     "text": [
      "Nombre d'utilisateurs dans le jeu d'entrainement : 82231\n"
     ]
    }
   ],
   "source": [
    "print(f\"Nombre d'utilisateurs dans le jeu d'entrainement : {df_data_train['user_id'].nunique()}\")"
   ]
  },
  {
   "cell_type": "code",
   "execution_count": 15,
   "id": "89e35acb",
   "metadata": {},
   "outputs": [
    {
     "name": "stdout",
     "output_type": "stream",
     "text": [
      "Nombre d'articles lus dans le jeu d'entrainement : 17710\n"
     ]
    }
   ],
   "source": [
    "print(f\"Nombre d'articles lus dans le jeu d'entrainement : {df_data_train['article_id'].nunique()}\")"
   ]
  },
  {
   "cell_type": "markdown",
   "id": "0c0ecdec",
   "metadata": {},
   "source": [
    "#### Get most popular category for a user"
   ]
  },
  {
   "cell_type": "code",
   "execution_count": 16,
   "id": "4afd40f7",
   "metadata": {},
   "outputs": [],
   "source": [
    "def get_most_popular_category_for_user(user_id):\n",
    "    most_popular_category_for_user = df_data_train[df_data_train['user_id']==user_id].groupby(['category_id']).size().sort_values(ascending=False).index[0]\n",
    "    return most_popular_category_for_user"
   ]
  },
  {
   "cell_type": "markdown",
   "id": "c1b0cac2",
   "metadata": {},
   "source": [
    "#### Get most popular articles for a category"
   ]
  },
  {
   "cell_type": "code",
   "execution_count": 17,
   "id": "1079ca27",
   "metadata": {},
   "outputs": [],
   "source": [
    "def get_most_popular_articles_for_category(category_id):\n",
    "    most_popular_articles_for_category = df_data_train[df_data_train['category_id']==category_id].groupby(['article_id']).size().sort_values(ascending=False).index.to_list()\n",
    "    return most_popular_articles_for_category"
   ]
  },
  {
   "cell_type": "markdown",
   "id": "eec48b32",
   "metadata": {},
   "source": [
    "#### Get n recommandations for a user based on articles category"
   ]
  },
  {
   "cell_type": "code",
   "execution_count": 18,
   "id": "b642224c",
   "metadata": {},
   "outputs": [],
   "source": [
    "def get_recommendations_articles_category(user_id, top_n):\n",
    "    if user_id in df_data_train['user_id'].values:\n",
    "        most_popular_category_for_user = get_most_popular_category_for_user(user_id)\n",
    "        most_popular_articles_for_category = get_most_popular_articles_for_category(most_popular_category_for_user)\n",
    "        articles_already_read_for_user = get_articles_already_read_for_user(user_id)    \n",
    "        most_popular_articles_for_category_not_already_read = [i for i in most_popular_articles_for_category if i not in set(articles_already_read_for_user)]\n",
    "        top_n_most_popular_articles_for_category_not_already_read = most_popular_articles_for_category_not_already_read[:top_n]\n",
    "        return top_n_most_popular_articles_for_category_not_already_read\n",
    "    else:\n",
    "        print(\"Error : User does not exist or user with not enough historic\")"
   ]
  },
  {
   "cell_type": "code",
   "execution_count": 19,
   "id": "fa528e85",
   "metadata": {},
   "outputs": [
    {
     "name": "stdout",
     "output_type": "stream",
     "text": [
      "Wall time: 48 ms\n"
     ]
    },
    {
     "data": {
      "text/plain": [
       "[160974, 162655, 158536, 156560, 160417]"
      ]
     },
     "execution_count": 19,
     "metadata": {},
     "output_type": "execute_result"
    }
   ],
   "source": [
    "%%time\n",
    "get_recommendations_articles_category(1, 5)"
   ]
  },
  {
   "cell_type": "markdown",
   "id": "02fa2faf",
   "metadata": {},
   "source": [
    "### Evaluation"
   ]
  },
  {
   "cell_type": "code",
   "execution_count": 20,
   "id": "31bfc607",
   "metadata": {},
   "outputs": [],
   "source": [
    "nb_interactions_cb_category, metric_cb_category = evaluation_recommendations_content_based_models(nb_recommandations, nb_users, get_recommendations_articles_category)"
   ]
  },
  {
   "cell_type": "code",
   "execution_count": 21,
   "id": "9e229a57",
   "metadata": {},
   "outputs": [
    {
     "name": "stdout",
     "output_type": "stream",
     "text": [
      "Evaluation Metric = 5.00\n"
     ]
    }
   ],
   "source": [
    "print(f\"Evaluation Metric = {metric_cb_category:.2f}\")"
   ]
  },
  {
   "cell_type": "markdown",
   "id": "e09637d7",
   "metadata": {},
   "source": [
    "### Modèle basé sur la similarité entre les articles \n",
    "- Profil des utilisateurs : basé sur le dernier article lu\n",
    "- Similarité : basée sur la similarité des embeddings des articles (similarité cosinus sur les embeddings) "
   ]
  },
  {
   "cell_type": "markdown",
   "id": "5ccb123f",
   "metadata": {},
   "source": [
    "#### Construction matrice embeddings articles lus"
   ]
  },
  {
   "cell_type": "code",
   "execution_count": 22,
   "id": "3e1b3e23",
   "metadata": {},
   "outputs": [],
   "source": [
    "matrix_articles_embeddings = pd.read_pickle('../../data/news-portal-user-interactions-by-globocom/articles_embeddings.pickle')"
   ]
  },
  {
   "cell_type": "code",
   "execution_count": 23,
   "id": "e7f0027a",
   "metadata": {},
   "outputs": [
    {
     "data": {
      "text/plain": [
       "(364047, 250)"
      ]
     },
     "execution_count": 23,
     "metadata": {},
     "output_type": "execute_result"
    }
   ],
   "source": [
    "matrix_articles_embeddings.shape"
   ]
  },
  {
   "cell_type": "code",
   "execution_count": 24,
   "id": "77ee995b",
   "metadata": {},
   "outputs": [],
   "source": [
    "ids_article_read = df_data_train['article_id'].unique()"
   ]
  },
  {
   "cell_type": "code",
   "execution_count": 25,
   "id": "190270b1",
   "metadata": {},
   "outputs": [],
   "source": [
    "ids_article_read.sort()"
   ]
  },
  {
   "cell_type": "code",
   "execution_count": 26,
   "id": "e052fafa",
   "metadata": {},
   "outputs": [
    {
     "data": {
      "text/plain": [
       "array([    27,     81,    137, ..., 364014, 364017, 364043], dtype=int64)"
      ]
     },
     "execution_count": 26,
     "metadata": {},
     "output_type": "execute_result"
    }
   ],
   "source": [
    "ids_article_read"
   ]
  },
  {
   "cell_type": "code",
   "execution_count": 27,
   "id": "7b19132e",
   "metadata": {},
   "outputs": [],
   "source": [
    "ids_article_read = ids_article_read.tolist()"
   ]
  },
  {
   "cell_type": "code",
   "execution_count": 28,
   "id": "16a240cc",
   "metadata": {},
   "outputs": [
    {
     "data": {
      "text/plain": [
       "17710"
      ]
     },
     "execution_count": 28,
     "metadata": {},
     "output_type": "execute_result"
    }
   ],
   "source": [
    "len(ids_article_read)"
   ]
  },
  {
   "cell_type": "code",
   "execution_count": 29,
   "id": "ba2bc25d",
   "metadata": {},
   "outputs": [],
   "source": [
    "matrix_articles_read_embeddings = np.zeros(shape=(len(ids_article_read), matrix_articles_embeddings.shape[1]), dtype='float32')\n",
    "for i, j in enumerate(ids_article_read):    \n",
    "    matrix_articles_read_embeddings[i] = matrix_articles_embeddings[j]"
   ]
  },
  {
   "cell_type": "code",
   "execution_count": 30,
   "id": "874d4e8c",
   "metadata": {},
   "outputs": [
    {
     "data": {
      "text/plain": [
       "array([[-0.7008142 , -0.9659266 , -0.1818693 , ..., -0.38887644,\n",
       "         0.6968653 , -0.5328732 ],\n",
       "       [ 0.2215637 , -0.97880304,  0.6145965 , ..., -0.24820906,\n",
       "         0.7173663 , -0.8169451 ],\n",
       "       [-0.17764656, -0.9692499 ,  0.4397025 , ..., -0.6503148 ,\n",
       "         0.73871505, -0.9394058 ],\n",
       "       ...,\n",
       "       [ 0.69512177, -0.9768214 ,  0.52648866, ...,  0.5662906 ,\n",
       "        -0.05684129,  0.5272194 ],\n",
       "       [ 0.29026955, -0.96339834, -0.01913572, ...,  0.61537707,\n",
       "         0.04842116, -0.30961972],\n",
       "       [-0.13693178, -0.9954715 ,  0.99129796, ...,  0.9892977 ,\n",
       "        -0.7615948 , -0.41465205]], dtype=float32)"
      ]
     },
     "execution_count": 30,
     "metadata": {},
     "output_type": "execute_result"
    }
   ],
   "source": [
    "matrix_articles_read_embeddings"
   ]
  },
  {
   "cell_type": "code",
   "execution_count": 31,
   "id": "d09e0698",
   "metadata": {},
   "outputs": [
    {
     "data": {
      "text/plain": [
       "(17710, 250)"
      ]
     },
     "execution_count": 31,
     "metadata": {},
     "output_type": "execute_result"
    }
   ],
   "source": [
    "matrix_articles_read_embeddings.shape"
   ]
  },
  {
   "cell_type": "markdown",
   "id": "2fca3e38",
   "metadata": {},
   "source": [
    "#### Get cosine similarities matrix for articles"
   ]
  },
  {
   "cell_type": "code",
   "execution_count": 32,
   "id": "5c76e90f",
   "metadata": {},
   "outputs": [],
   "source": [
    "def get_articles_cosine_similarities_matrix(matrix_articles_embeddings):\n",
    "    cosine_similarities_matrix = cosine_similarity(matrix_articles_embeddings, matrix_articles_embeddings)\n",
    "    return cosine_similarities_matrix"
   ]
  },
  {
   "cell_type": "code",
   "execution_count": 33,
   "id": "69699db2",
   "metadata": {},
   "outputs": [],
   "source": [
    "cosine_similarities_matrix = get_articles_cosine_similarities_matrix(matrix_articles_read_embeddings)"
   ]
  },
  {
   "cell_type": "code",
   "execution_count": 34,
   "id": "1e03ac24",
   "metadata": {},
   "outputs": [
    {
     "data": {
      "text/plain": [
       "array([[ 0.99999964,  0.66986096,  0.6915096 , ..., -0.06418734,\n",
       "         0.07249391,  0.07056355],\n",
       "       [ 0.66986096,  1.0000001 ,  0.8870426 , ...,  0.10915044,\n",
       "         0.17474371,  0.03925371],\n",
       "       [ 0.6915096 ,  0.8870426 ,  0.9999998 , ...,  0.02380319,\n",
       "         0.11487039, -0.00353779],\n",
       "       ...,\n",
       "       [-0.06418734,  0.10915044,  0.02380319, ...,  0.9999999 ,\n",
       "         0.523187  ,  0.09992522],\n",
       "       [ 0.07249391,  0.17474371,  0.11487039, ...,  0.523187  ,\n",
       "         1.0000001 ,  0.37486896],\n",
       "       [ 0.07056355,  0.03925371, -0.00353779, ...,  0.09992522,\n",
       "         0.37486896,  1.0000001 ]], dtype=float32)"
      ]
     },
     "execution_count": 34,
     "metadata": {},
     "output_type": "execute_result"
    }
   ],
   "source": [
    "cosine_similarities_matrix"
   ]
  },
  {
   "cell_type": "code",
   "execution_count": 35,
   "id": "9d50cdaa",
   "metadata": {},
   "outputs": [
    {
     "data": {
      "text/plain": [
       "(17710, 17710)"
      ]
     },
     "execution_count": 35,
     "metadata": {},
     "output_type": "execute_result"
    }
   ],
   "source": [
    "cosine_similarities_matrix.shape"
   ]
  },
  {
   "cell_type": "markdown",
   "id": "ac2ad00b",
   "metadata": {},
   "source": [
    "#### Get similar articles of an existing article"
   ]
  },
  {
   "cell_type": "code",
   "execution_count": 36,
   "id": "a65f685e",
   "metadata": {},
   "outputs": [],
   "source": [
    "def get_similar_articles(cos_sim_matrix, article_id):\n",
    "    \n",
    "    ids = []\n",
    "    scores = []\n",
    "    article_index_id = ids_article_read.index(article_id)\n",
    "    for i in range(len(cos_sim_matrix)):\n",
    "        ids.append(ids_article_read[i])\n",
    "        scores.append(cos_sim_matrix[i][article_index_id])\n",
    "\n",
    "    df_ids_scores = pd.DataFrame(list(zip(ids, scores)), columns=['id', 'score'])    \n",
    "    df_ids_scores_sorted = df_ids_scores.sort_values(by=['score'], axis=0, ascending=False)\n",
    "    similar_articles = df_ids_scores_sorted['id'].to_list()\n",
    "    \n",
    "    return similar_articles"
   ]
  },
  {
   "cell_type": "markdown",
   "id": "fa52dec5",
   "metadata": {},
   "source": [
    "#### Get last article read for a user"
   ]
  },
  {
   "cell_type": "code",
   "execution_count": 37,
   "id": "a519e70f",
   "metadata": {},
   "outputs": [],
   "source": [
    "def get_last_article_read(user_id):\n",
    "    last_article_id = int(df_data_train[df_data_train['user_id']==user_id]['article_id'].iloc[-1])\n",
    "    return last_article_id"
   ]
  },
  {
   "cell_type": "markdown",
   "id": "a6da7101",
   "metadata": {},
   "source": [
    "#### Get n recommandations for a user based on articles similarities"
   ]
  },
  {
   "cell_type": "code",
   "execution_count": 38,
   "id": "288c38dc",
   "metadata": {},
   "outputs": [],
   "source": [
    "def get_recommendations_articles_similarities(user_id, top_n, matrix_cos_sim):\n",
    "    if user_id in df_data_train['user_id'].values:\n",
    "        last_article_id = get_last_article_read(user_id)\n",
    "        similar_articles = get_similar_articles(matrix_cos_sim, last_article_id)\n",
    "        articles_already_read_for_user = get_articles_already_read_for_user(user_id)\n",
    "        similar_articles_not_already_read = [i for i in similar_articles if i not in set(articles_already_read_for_user)]\n",
    "        top_n_similar_articles_not_already_read = similar_articles_not_already_read[:top_n]\n",
    "        \n",
    "        return top_n_similar_articles_not_already_read\n",
    "    else:\n",
    "        print(\"Error : User does not exist or user with not enough historic\")"
   ]
  },
  {
   "cell_type": "code",
   "execution_count": 39,
   "id": "6820f4a3",
   "metadata": {},
   "outputs": [
    {
     "name": "stdout",
     "output_type": "stream",
     "text": [
      "Wall time: 85 ms\n"
     ]
    },
    {
     "data": {
      "text/plain": [
       "[283391, 282964, 283971, 283041, 285461]"
      ]
     },
     "execution_count": 39,
     "metadata": {},
     "output_type": "execute_result"
    }
   ],
   "source": [
    "%%time\n",
    "get_recommendations_articles_similarities(1, 5, cosine_similarities_matrix)"
   ]
  },
  {
   "cell_type": "markdown",
   "id": "5eea56b5",
   "metadata": {},
   "source": [
    "### Evaluation"
   ]
  },
  {
   "cell_type": "code",
   "execution_count": 40,
   "id": "8f3e174c",
   "metadata": {},
   "outputs": [],
   "source": [
    "nb_interactions_cb_similarity, metric_cb_similarity = evaluation_recommendations_content_based_models(nb_recommandations, nb_users, get_recommendations_articles_similarities, cosine_similarities_matrix=cosine_similarities_matrix)"
   ]
  },
  {
   "cell_type": "code",
   "execution_count": 41,
   "id": "c403cca7",
   "metadata": {},
   "outputs": [
    {
     "name": "stdout",
     "output_type": "stream",
     "text": [
      "Evaluation Metric = 2.57\n"
     ]
    }
   ],
   "source": [
    "print(f\"Evaluation Metric = {metric_cb_similarity:.2f}\")"
   ]
  },
  {
   "cell_type": "markdown",
   "id": "605ac1ed",
   "metadata": {},
   "source": [
    "## Collaborative Filtering recommandation"
   ]
  },
  {
   "cell_type": "markdown",
   "id": "4db09967",
   "metadata": {},
   "source": [
    "##### Pour ce type de recommandation, les recommandations faites sont basées sur (i) les interactions utilisateurs-articles et (ii) la similarité entre les utilisateurs. Il y a 2 familles :\n",
    "- Recommandations **'Model based'**\n",
    "- Recommandations **'Memory based'**"
   ]
  },
  {
   "cell_type": "markdown",
   "id": "d7037006",
   "metadata": {},
   "source": [
    "### Utilisation de la librairie Implicit\n",
    "- Nous avons utilisé pour implémenter ces modèles la librairie **Implicit**\n",
    "- C'est une librairie spécialisée pour les Dataset avec des ratings implicites comme c'est le cas pour notre projet"
   ]
  },
  {
   "cell_type": "markdown",
   "id": "874b6293",
   "metadata": {},
   "source": [
    "### Préparation des données"
   ]
  },
  {
   "cell_type": "code",
   "execution_count": 42,
   "id": "486d78ef",
   "metadata": {},
   "outputs": [
    {
     "data": {
      "text/html": [
       "<div>\n",
       "<style scoped>\n",
       "    .dataframe tbody tr th:only-of-type {\n",
       "        vertical-align: middle;\n",
       "    }\n",
       "\n",
       "    .dataframe tbody tr th {\n",
       "        vertical-align: top;\n",
       "    }\n",
       "\n",
       "    .dataframe thead th {\n",
       "        text-align: right;\n",
       "    }\n",
       "</style>\n",
       "<table border=\"1\" class=\"dataframe\">\n",
       "  <thead>\n",
       "    <tr style=\"text-align: right;\">\n",
       "      <th></th>\n",
       "      <th>user_id</th>\n",
       "      <th>click_timestamp</th>\n",
       "      <th>click_country</th>\n",
       "      <th>click_region</th>\n",
       "      <th>article_id</th>\n",
       "      <th>category_id</th>\n",
       "      <th>words_count</th>\n",
       "      <th>click_datetime</th>\n",
       "    </tr>\n",
       "  </thead>\n",
       "  <tbody>\n",
       "    <tr>\n",
       "      <th>0</th>\n",
       "      <td>59</td>\n",
       "      <td>1506826800026</td>\n",
       "      <td>1</td>\n",
       "      <td>21</td>\n",
       "      <td>234853</td>\n",
       "      <td>375</td>\n",
       "      <td>140</td>\n",
       "      <td>2017-10-01 03:00:00.026</td>\n",
       "    </tr>\n",
       "    <tr>\n",
       "      <th>1</th>\n",
       "      <td>154</td>\n",
       "      <td>1506826804207</td>\n",
       "      <td>1</td>\n",
       "      <td>25</td>\n",
       "      <td>96663</td>\n",
       "      <td>209</td>\n",
       "      <td>206</td>\n",
       "      <td>2017-10-01 03:00:04.207</td>\n",
       "    </tr>\n",
       "    <tr>\n",
       "      <th>2</th>\n",
       "      <td>111</td>\n",
       "      <td>1506826814140</td>\n",
       "      <td>1</td>\n",
       "      <td>9</td>\n",
       "      <td>202436</td>\n",
       "      <td>327</td>\n",
       "      <td>333</td>\n",
       "      <td>2017-10-01 03:00:14.140</td>\n",
       "    </tr>\n",
       "    <tr>\n",
       "      <th>3</th>\n",
       "      <td>133</td>\n",
       "      <td>1506826823065</td>\n",
       "      <td>1</td>\n",
       "      <td>13</td>\n",
       "      <td>284847</td>\n",
       "      <td>412</td>\n",
       "      <td>266</td>\n",
       "      <td>2017-10-01 03:00:23.065</td>\n",
       "    </tr>\n",
       "    <tr>\n",
       "      <th>4</th>\n",
       "      <td>59</td>\n",
       "      <td>1506826830026</td>\n",
       "      <td>1</td>\n",
       "      <td>21</td>\n",
       "      <td>234995</td>\n",
       "      <td>375</td>\n",
       "      <td>155</td>\n",
       "      <td>2017-10-01 03:00:30.026</td>\n",
       "    </tr>\n",
       "    <tr>\n",
       "      <th>...</th>\n",
       "      <td>...</td>\n",
       "      <td>...</td>\n",
       "      <td>...</td>\n",
       "      <td>...</td>\n",
       "      <td>...</td>\n",
       "      <td>...</td>\n",
       "      <td>...</td>\n",
       "      <td>...</td>\n",
       "    </tr>\n",
       "    <tr>\n",
       "      <th>1033991</th>\n",
       "      <td>119210</td>\n",
       "      <td>1507506684388</td>\n",
       "      <td>1</td>\n",
       "      <td>20</td>\n",
       "      <td>233658</td>\n",
       "      <td>375</td>\n",
       "      <td>149</td>\n",
       "      <td>2017-10-08 23:51:24.388</td>\n",
       "    </tr>\n",
       "    <tr>\n",
       "      <th>1033992</th>\n",
       "      <td>235646</td>\n",
       "      <td>1507506685571</td>\n",
       "      <td>1</td>\n",
       "      <td>25</td>\n",
       "      <td>129434</td>\n",
       "      <td>252</td>\n",
       "      <td>168</td>\n",
       "      <td>2017-10-08 23:51:25.571</td>\n",
       "    </tr>\n",
       "    <tr>\n",
       "      <th>1033993</th>\n",
       "      <td>2504</td>\n",
       "      <td>1507506686115</td>\n",
       "      <td>1</td>\n",
       "      <td>25</td>\n",
       "      <td>202632</td>\n",
       "      <td>327</td>\n",
       "      <td>189</td>\n",
       "      <td>2017-10-08 23:51:26.115</td>\n",
       "    </tr>\n",
       "    <tr>\n",
       "      <th>1033994</th>\n",
       "      <td>25029</td>\n",
       "      <td>1507506686811</td>\n",
       "      <td>1</td>\n",
       "      <td>25</td>\n",
       "      <td>272202</td>\n",
       "      <td>399</td>\n",
       "      <td>206</td>\n",
       "      <td>2017-10-08 23:51:26.811</td>\n",
       "    </tr>\n",
       "    <tr>\n",
       "      <th>1033995</th>\n",
       "      <td>1445</td>\n",
       "      <td>1507506687423</td>\n",
       "      <td>1</td>\n",
       "      <td>5</td>\n",
       "      <td>286350</td>\n",
       "      <td>412</td>\n",
       "      <td>197</td>\n",
       "      <td>2017-10-08 23:51:27.423</td>\n",
       "    </tr>\n",
       "  </tbody>\n",
       "</table>\n",
       "<p>1033996 rows × 8 columns</p>\n",
       "</div>"
      ],
      "text/plain": [
       "         user_id  click_timestamp  click_country  click_region  article_id  \\\n",
       "0             59    1506826800026              1            21      234853   \n",
       "1            154    1506826804207              1            25       96663   \n",
       "2            111    1506826814140              1             9      202436   \n",
       "3            133    1506826823065              1            13      284847   \n",
       "4             59    1506826830026              1            21      234995   \n",
       "...          ...              ...            ...           ...         ...   \n",
       "1033991   119210    1507506684388              1            20      233658   \n",
       "1033992   235646    1507506685571              1            25      129434   \n",
       "1033993     2504    1507506686115              1            25      202632   \n",
       "1033994    25029    1507506686811              1            25      272202   \n",
       "1033995     1445    1507506687423              1             5      286350   \n",
       "\n",
       "         category_id  words_count           click_datetime  \n",
       "0                375          140  2017-10-01 03:00:00.026  \n",
       "1                209          206  2017-10-01 03:00:04.207  \n",
       "2                327          333  2017-10-01 03:00:14.140  \n",
       "3                412          266  2017-10-01 03:00:23.065  \n",
       "4                375          155  2017-10-01 03:00:30.026  \n",
       "...              ...          ...                      ...  \n",
       "1033991          375          149  2017-10-08 23:51:24.388  \n",
       "1033992          252          168  2017-10-08 23:51:25.571  \n",
       "1033993          327          189  2017-10-08 23:51:26.115  \n",
       "1033994          399          206  2017-10-08 23:51:26.811  \n",
       "1033995          412          197  2017-10-08 23:51:27.423  \n",
       "\n",
       "[1033996 rows x 8 columns]"
      ]
     },
     "execution_count": 42,
     "metadata": {},
     "output_type": "execute_result"
    }
   ],
   "source": [
    "df_data_train"
   ]
  },
  {
   "cell_type": "code",
   "execution_count": 43,
   "id": "e283e3f7",
   "metadata": {},
   "outputs": [
    {
     "data": {
      "text/html": [
       "<div>\n",
       "<style scoped>\n",
       "    .dataframe tbody tr th:only-of-type {\n",
       "        vertical-align: middle;\n",
       "    }\n",
       "\n",
       "    .dataframe tbody tr th {\n",
       "        vertical-align: top;\n",
       "    }\n",
       "\n",
       "    .dataframe thead th {\n",
       "        text-align: right;\n",
       "    }\n",
       "</style>\n",
       "<table border=\"1\" class=\"dataframe\">\n",
       "  <thead>\n",
       "    <tr style=\"text-align: right;\">\n",
       "      <th></th>\n",
       "      <th>user_id</th>\n",
       "      <th>article_id</th>\n",
       "    </tr>\n",
       "  </thead>\n",
       "  <tbody>\n",
       "    <tr>\n",
       "      <th>0</th>\n",
       "      <td>59</td>\n",
       "      <td>234853</td>\n",
       "    </tr>\n",
       "    <tr>\n",
       "      <th>1</th>\n",
       "      <td>154</td>\n",
       "      <td>96663</td>\n",
       "    </tr>\n",
       "    <tr>\n",
       "      <th>2</th>\n",
       "      <td>111</td>\n",
       "      <td>202436</td>\n",
       "    </tr>\n",
       "    <tr>\n",
       "      <th>3</th>\n",
       "      <td>133</td>\n",
       "      <td>284847</td>\n",
       "    </tr>\n",
       "    <tr>\n",
       "      <th>4</th>\n",
       "      <td>59</td>\n",
       "      <td>234995</td>\n",
       "    </tr>\n",
       "    <tr>\n",
       "      <th>...</th>\n",
       "      <td>...</td>\n",
       "      <td>...</td>\n",
       "    </tr>\n",
       "    <tr>\n",
       "      <th>1033991</th>\n",
       "      <td>119210</td>\n",
       "      <td>233658</td>\n",
       "    </tr>\n",
       "    <tr>\n",
       "      <th>1033992</th>\n",
       "      <td>235646</td>\n",
       "      <td>129434</td>\n",
       "    </tr>\n",
       "    <tr>\n",
       "      <th>1033993</th>\n",
       "      <td>2504</td>\n",
       "      <td>202632</td>\n",
       "    </tr>\n",
       "    <tr>\n",
       "      <th>1033994</th>\n",
       "      <td>25029</td>\n",
       "      <td>272202</td>\n",
       "    </tr>\n",
       "    <tr>\n",
       "      <th>1033995</th>\n",
       "      <td>1445</td>\n",
       "      <td>286350</td>\n",
       "    </tr>\n",
       "  </tbody>\n",
       "</table>\n",
       "<p>1033996 rows × 2 columns</p>\n",
       "</div>"
      ],
      "text/plain": [
       "         user_id  article_id\n",
       "0             59      234853\n",
       "1            154       96663\n",
       "2            111      202436\n",
       "3            133      284847\n",
       "4             59      234995\n",
       "...          ...         ...\n",
       "1033991   119210      233658\n",
       "1033992   235646      129434\n",
       "1033993     2504      202632\n",
       "1033994    25029      272202\n",
       "1033995     1445      286350\n",
       "\n",
       "[1033996 rows x 2 columns]"
      ]
     },
     "execution_count": 43,
     "metadata": {},
     "output_type": "execute_result"
    }
   ],
   "source": [
    "df_data_train_implicit = df_data_train[['user_id', 'article_id']]\n",
    "df_data_train_implicit"
   ]
  },
  {
   "cell_type": "code",
   "execution_count": 44,
   "id": "07704ce0",
   "metadata": {},
   "outputs": [
    {
     "data": {
      "text/html": [
       "<div>\n",
       "<style scoped>\n",
       "    .dataframe tbody tr th:only-of-type {\n",
       "        vertical-align: middle;\n",
       "    }\n",
       "\n",
       "    .dataframe tbody tr th {\n",
       "        vertical-align: top;\n",
       "    }\n",
       "\n",
       "    .dataframe thead th {\n",
       "        text-align: right;\n",
       "    }\n",
       "</style>\n",
       "<table border=\"1\" class=\"dataframe\">\n",
       "  <thead>\n",
       "    <tr style=\"text-align: right;\">\n",
       "      <th></th>\n",
       "      <th>user_id</th>\n",
       "      <th>article_id</th>\n",
       "      <th>nb_interactions</th>\n",
       "    </tr>\n",
       "  </thead>\n",
       "  <tbody>\n",
       "    <tr>\n",
       "      <th>0</th>\n",
       "      <td>1</td>\n",
       "      <td>59758</td>\n",
       "      <td>1</td>\n",
       "    </tr>\n",
       "    <tr>\n",
       "      <th>1</th>\n",
       "      <td>1</td>\n",
       "      <td>96663</td>\n",
       "      <td>1</td>\n",
       "    </tr>\n",
       "    <tr>\n",
       "      <th>2</th>\n",
       "      <td>1</td>\n",
       "      <td>156723</td>\n",
       "      <td>1</td>\n",
       "    </tr>\n",
       "    <tr>\n",
       "      <th>3</th>\n",
       "      <td>1</td>\n",
       "      <td>160474</td>\n",
       "      <td>1</td>\n",
       "    </tr>\n",
       "    <tr>\n",
       "      <th>4</th>\n",
       "      <td>1</td>\n",
       "      <td>205973</td>\n",
       "      <td>1</td>\n",
       "    </tr>\n",
       "    <tr>\n",
       "      <th>...</th>\n",
       "      <td>...</td>\n",
       "      <td>...</td>\n",
       "      <td>...</td>\n",
       "    </tr>\n",
       "    <tr>\n",
       "      <th>1015242</th>\n",
       "      <td>235671</td>\n",
       "      <td>233658</td>\n",
       "      <td>1</td>\n",
       "    </tr>\n",
       "    <tr>\n",
       "      <th>1015243</th>\n",
       "      <td>235671</td>\n",
       "      <td>286350</td>\n",
       "      <td>1</td>\n",
       "    </tr>\n",
       "    <tr>\n",
       "      <th>1015244</th>\n",
       "      <td>235714</td>\n",
       "      <td>68924</td>\n",
       "      <td>1</td>\n",
       "    </tr>\n",
       "    <tr>\n",
       "      <th>1015245</th>\n",
       "      <td>235744</td>\n",
       "      <td>129434</td>\n",
       "      <td>1</td>\n",
       "    </tr>\n",
       "    <tr>\n",
       "      <th>1015246</th>\n",
       "      <td>235744</td>\n",
       "      <td>285331</td>\n",
       "      <td>1</td>\n",
       "    </tr>\n",
       "  </tbody>\n",
       "</table>\n",
       "<p>1015247 rows × 3 columns</p>\n",
       "</div>"
      ],
      "text/plain": [
       "         user_id  article_id  nb_interactions\n",
       "0              1       59758                1\n",
       "1              1       96663                1\n",
       "2              1      156723                1\n",
       "3              1      160474                1\n",
       "4              1      205973                1\n",
       "...          ...         ...              ...\n",
       "1015242   235671      233658                1\n",
       "1015243   235671      286350                1\n",
       "1015244   235714       68924                1\n",
       "1015245   235744      129434                1\n",
       "1015246   235744      285331                1\n",
       "\n",
       "[1015247 rows x 3 columns]"
      ]
     },
     "execution_count": 44,
     "metadata": {},
     "output_type": "execute_result"
    }
   ],
   "source": [
    "df_data_train_implicit = df_data_train_implicit.groupby(['user_id','article_id']).size().reset_index(name='nb_interactions')\n",
    "df_data_train_implicit"
   ]
  },
  {
   "cell_type": "code",
   "execution_count": 45,
   "id": "efd4801e",
   "metadata": {},
   "outputs": [
    {
     "data": {
      "text/plain": [
       "1033996"
      ]
     },
     "execution_count": 45,
     "metadata": {},
     "output_type": "execute_result"
    }
   ],
   "source": [
    "df_data_train_implicit['nb_interactions'].sum()"
   ]
  },
  {
   "cell_type": "code",
   "execution_count": 46,
   "id": "a59a2347",
   "metadata": {},
   "outputs": [],
   "source": [
    "df_data_train_implicit['user_id'] = df_data_train_implicit['user_id'].astype(\"category\")\n",
    "df_data_train_implicit['article_id'] = df_data_train_implicit['article_id'].astype(\"category\")\n",
    "df_data_train_implicit['user_num'] = df_data_train_implicit['user_id'].cat.codes\n",
    "df_data_train_implicit['article_num'] = df_data_train_implicit['article_id'].cat.codes"
   ]
  },
  {
   "cell_type": "code",
   "execution_count": 47,
   "id": "20d41536",
   "metadata": {},
   "outputs": [
    {
     "data": {
      "text/html": [
       "<div>\n",
       "<style scoped>\n",
       "    .dataframe tbody tr th:only-of-type {\n",
       "        vertical-align: middle;\n",
       "    }\n",
       "\n",
       "    .dataframe tbody tr th {\n",
       "        vertical-align: top;\n",
       "    }\n",
       "\n",
       "    .dataframe thead th {\n",
       "        text-align: right;\n",
       "    }\n",
       "</style>\n",
       "<table border=\"1\" class=\"dataframe\">\n",
       "  <thead>\n",
       "    <tr style=\"text-align: right;\">\n",
       "      <th></th>\n",
       "      <th>user_id</th>\n",
       "      <th>article_id</th>\n",
       "      <th>nb_interactions</th>\n",
       "      <th>user_num</th>\n",
       "      <th>article_num</th>\n",
       "    </tr>\n",
       "  </thead>\n",
       "  <tbody>\n",
       "    <tr>\n",
       "      <th>0</th>\n",
       "      <td>1</td>\n",
       "      <td>59758</td>\n",
       "      <td>1</td>\n",
       "      <td>0</td>\n",
       "      <td>3011</td>\n",
       "    </tr>\n",
       "    <tr>\n",
       "      <th>1</th>\n",
       "      <td>1</td>\n",
       "      <td>96663</td>\n",
       "      <td>1</td>\n",
       "      <td>0</td>\n",
       "      <td>5314</td>\n",
       "    </tr>\n",
       "    <tr>\n",
       "      <th>2</th>\n",
       "      <td>1</td>\n",
       "      <td>156723</td>\n",
       "      <td>1</td>\n",
       "      <td>0</td>\n",
       "      <td>8205</td>\n",
       "    </tr>\n",
       "    <tr>\n",
       "      <th>3</th>\n",
       "      <td>1</td>\n",
       "      <td>160474</td>\n",
       "      <td>1</td>\n",
       "      <td>0</td>\n",
       "      <td>8500</td>\n",
       "    </tr>\n",
       "    <tr>\n",
       "      <th>4</th>\n",
       "      <td>1</td>\n",
       "      <td>205973</td>\n",
       "      <td>1</td>\n",
       "      <td>0</td>\n",
       "      <td>10651</td>\n",
       "    </tr>\n",
       "    <tr>\n",
       "      <th>...</th>\n",
       "      <td>...</td>\n",
       "      <td>...</td>\n",
       "      <td>...</td>\n",
       "      <td>...</td>\n",
       "      <td>...</td>\n",
       "    </tr>\n",
       "    <tr>\n",
       "      <th>1015242</th>\n",
       "      <td>235671</td>\n",
       "      <td>233658</td>\n",
       "      <td>1</td>\n",
       "      <td>82228</td>\n",
       "      <td>11927</td>\n",
       "    </tr>\n",
       "    <tr>\n",
       "      <th>1015243</th>\n",
       "      <td>235671</td>\n",
       "      <td>286350</td>\n",
       "      <td>1</td>\n",
       "      <td>82228</td>\n",
       "      <td>14631</td>\n",
       "    </tr>\n",
       "    <tr>\n",
       "      <th>1015244</th>\n",
       "      <td>235714</td>\n",
       "      <td>68924</td>\n",
       "      <td>1</td>\n",
       "      <td>82229</td>\n",
       "      <td>3660</td>\n",
       "    </tr>\n",
       "    <tr>\n",
       "      <th>1015245</th>\n",
       "      <td>235744</td>\n",
       "      <td>129434</td>\n",
       "      <td>1</td>\n",
       "      <td>82230</td>\n",
       "      <td>7152</td>\n",
       "    </tr>\n",
       "    <tr>\n",
       "      <th>1015246</th>\n",
       "      <td>235744</td>\n",
       "      <td>285331</td>\n",
       "      <td>1</td>\n",
       "      <td>82230</td>\n",
       "      <td>14520</td>\n",
       "    </tr>\n",
       "  </tbody>\n",
       "</table>\n",
       "<p>1015247 rows × 5 columns</p>\n",
       "</div>"
      ],
      "text/plain": [
       "        user_id article_id  nb_interactions  user_num  article_num\n",
       "0             1      59758                1         0         3011\n",
       "1             1      96663                1         0         5314\n",
       "2             1     156723                1         0         8205\n",
       "3             1     160474                1         0         8500\n",
       "4             1     205973                1         0        10651\n",
       "...         ...        ...              ...       ...          ...\n",
       "1015242  235671     233658                1     82228        11927\n",
       "1015243  235671     286350                1     82228        14631\n",
       "1015244  235714      68924                1     82229         3660\n",
       "1015245  235744     129434                1     82230         7152\n",
       "1015246  235744     285331                1     82230        14520\n",
       "\n",
       "[1015247 rows x 5 columns]"
      ]
     },
     "execution_count": 47,
     "metadata": {},
     "output_type": "execute_result"
    }
   ],
   "source": [
    "df_data_train_implicit"
   ]
  },
  {
   "cell_type": "code",
   "execution_count": 48,
   "id": "8eefca99",
   "metadata": {},
   "outputs": [
    {
     "data": {
      "text/plain": [
       "0"
      ]
     },
     "execution_count": 48,
     "metadata": {},
     "output_type": "execute_result"
    }
   ],
   "source": [
    "df_data_train_implicit['user_num'].min()"
   ]
  },
  {
   "cell_type": "code",
   "execution_count": 49,
   "id": "caef1666",
   "metadata": {},
   "outputs": [
    {
     "data": {
      "text/plain": [
       "82230"
      ]
     },
     "execution_count": 49,
     "metadata": {},
     "output_type": "execute_result"
    }
   ],
   "source": [
    "df_data_train_implicit['user_num'].max()"
   ]
  },
  {
   "cell_type": "code",
   "execution_count": 50,
   "id": "02fe6b8e",
   "metadata": {},
   "outputs": [
    {
     "data": {
      "text/plain": [
       "0"
      ]
     },
     "execution_count": 50,
     "metadata": {},
     "output_type": "execute_result"
    }
   ],
   "source": [
    "df_data_train_implicit['article_num'].min()"
   ]
  },
  {
   "cell_type": "code",
   "execution_count": 51,
   "id": "39c3cd27",
   "metadata": {},
   "outputs": [
    {
     "data": {
      "text/plain": [
       "17709"
      ]
     },
     "execution_count": 51,
     "metadata": {},
     "output_type": "execute_result"
    }
   ],
   "source": [
    "df_data_train_implicit['article_num'].max()"
   ]
  },
  {
   "cell_type": "markdown",
   "id": "f1252e2f",
   "metadata": {},
   "source": [
    "#### Sparse Matrix articles-users"
   ]
  },
  {
   "cell_type": "code",
   "execution_count": 52,
   "id": "b323e8b5",
   "metadata": {},
   "outputs": [],
   "source": [
    "articles_users_sparse = csr_matrix((df_data_train_implicit['nb_interactions'].astype(float), (df_data_train_implicit['article_num'], df_data_train_implicit['user_num'])))"
   ]
  },
  {
   "cell_type": "code",
   "execution_count": 53,
   "id": "7f8637d0",
   "metadata": {},
   "outputs": [
    {
     "data": {
      "text/plain": [
       "<17710x82231 sparse matrix of type '<class 'numpy.float64'>'\n",
       "\twith 1015247 stored elements in Compressed Sparse Row format>"
      ]
     },
     "execution_count": 53,
     "metadata": {},
     "output_type": "execute_result"
    }
   ],
   "source": [
    "articles_users_sparse"
   ]
  },
  {
   "cell_type": "markdown",
   "id": "083cedfc",
   "metadata": {},
   "source": [
    "#### Sparse Matrix users-articles"
   ]
  },
  {
   "cell_type": "code",
   "execution_count": 54,
   "id": "63ed445a",
   "metadata": {},
   "outputs": [],
   "source": [
    "users_articles_sparse = articles_users_sparse.T.tocsr()"
   ]
  },
  {
   "cell_type": "code",
   "execution_count": 55,
   "id": "83a62f79",
   "metadata": {},
   "outputs": [
    {
     "data": {
      "text/plain": [
       "<82231x17710 sparse matrix of type '<class 'numpy.float64'>'\n",
       "\twith 1015247 stored elements in Compressed Sparse Row format>"
      ]
     },
     "execution_count": 55,
     "metadata": {},
     "output_type": "execute_result"
    }
   ],
   "source": [
    "users_articles_sparse"
   ]
  },
  {
   "cell_type": "markdown",
   "id": "b666837b",
   "metadata": {},
   "source": [
    "### Model based\n",
    "- Ce sont des modèles basés sur des algorithmes de Machine Learning\n",
    "- Ils utilisent principalement des techniques de décomposition de Matrices\n",
    "- La décomposition de matrice permet de réduire la dimension du problème en trouvant les facteurs latents"
   ]
  },
  {
   "cell_type": "markdown",
   "id": "7d7080b6",
   "metadata": {},
   "source": [
    "### Alternating Least Squares Model\n",
    "- Modèle de recommandation cherchant les facteurs latents en minimisant une fonction de coût des moindres carrés de façon alternative (alternance utilisateurs-facteurs et items-facteurs)"
   ]
  },
  {
   "cell_type": "code",
   "execution_count": 56,
   "id": "08ef4e41",
   "metadata": {},
   "outputs": [
    {
     "name": "stderr",
     "output_type": "stream",
     "text": [
      "WARNING:root:OpenBLAS detected. Its highly recommend to set the environment variable 'export OPENBLAS_NUM_THREADS=1' to disable its internal multithreading\n"
     ]
    }
   ],
   "source": [
    "als_model = implicit.als.AlternatingLeastSquares(random_state=1)"
   ]
  },
  {
   "cell_type": "code",
   "execution_count": 57,
   "id": "c25aa917",
   "metadata": {},
   "outputs": [
    {
     "data": {
      "application/vnd.jupyter.widget-view+json": {
       "model_id": "c82362be37f1426693d97ba9786a465c",
       "version_major": 2,
       "version_minor": 0
      },
      "text/plain": [
       "  0%|          | 0/15 [00:00<?, ?it/s]"
      ]
     },
     "metadata": {},
     "output_type": "display_data"
    }
   ],
   "source": [
    "als_model.fit(articles_users_sparse)"
   ]
  },
  {
   "cell_type": "code",
   "execution_count": 58,
   "id": "00ee632e",
   "metadata": {},
   "outputs": [],
   "source": [
    "recommendations_als = als_model.recommend(1, users_articles_sparse, filter_already_liked_items=True)"
   ]
  },
  {
   "cell_type": "code",
   "execution_count": 59,
   "id": "c8aa60d8",
   "metadata": {},
   "outputs": [
    {
     "data": {
      "text/plain": [
       "[(11385, 0.35568604),\n",
       " (12491, 0.16098791),\n",
       " (12286, 0.1293987),\n",
       " (11906, 0.12364444),\n",
       " (7563, 0.119724736),\n",
       " (8384, 0.10810758),\n",
       " (8386, 0.09711843),\n",
       " (1440, 0.09500466),\n",
       " (10800, 0.094821334),\n",
       " (8142, 0.09190612)]"
      ]
     },
     "execution_count": 59,
     "metadata": {},
     "output_type": "execute_result"
    }
   ],
   "source": [
    "recommendations_als"
   ]
  },
  {
   "cell_type": "code",
   "execution_count": 60,
   "id": "5c189c86",
   "metadata": {},
   "outputs": [
    {
     "name": "stdout",
     "output_type": "stream",
     "text": [
      "Recommandations : \n",
      "   id article     score\n",
      "0      220466  0.355686\n",
      "1      240233  0.160988\n",
      "2      236613  0.129399\n",
      "3      233478  0.123644\n",
      "4      140720  0.119725\n",
      "5      158906  0.108108\n",
      "6      158915  0.097118\n",
      "7       32750  0.095005\n",
      "8      207391  0.094821\n",
      "9      156025  0.091906\n"
     ]
    }
   ],
   "source": [
    "articles = []\n",
    "scores = []\n",
    "\n",
    "for item in recommendations_als:\n",
    "    idx, score = item\n",
    "    articles.append(df_data_train_implicit['article_id'].loc[df_data_train_implicit['article_num'] == idx].iloc[0])\n",
    "    scores.append(score)\n",
    "\n",
    "df_recommendations_als = pd.DataFrame({'id article': articles, 'score': scores})\n",
    "\n",
    "print(\"Recommandations : \")\n",
    "print(df_recommendations_als)"
   ]
  },
  {
   "cell_type": "markdown",
   "id": "591c5d3e",
   "metadata": {},
   "source": [
    "#### Get n recommandations for a user based on ALS Model"
   ]
  },
  {
   "cell_type": "code",
   "execution_count": 61,
   "id": "15fd6b2b",
   "metadata": {},
   "outputs": [],
   "source": [
    "def get_recommendations_als_model(user_num, top_n):\n",
    "    if user_num in range(users_articles_sparse.shape[0]):\n",
    "        recommendations = als_model.recommend(user_num, users_articles_sparse, N=top_n, filter_already_liked_items=True)\n",
    "        \n",
    "        articles_recommended = []\n",
    "        for item in recommendations:\n",
    "            idx, _ = item\n",
    "            articles_recommended.append(df_data_train_implicit['article_id'].loc[df_data_train_implicit['article_num'] == idx].iloc[0])\n",
    "        \n",
    "        return articles_recommended\n",
    "    else:\n",
    "        print(\"Error : User num does not exist\")"
   ]
  },
  {
   "cell_type": "code",
   "execution_count": 62,
   "id": "3d93bb77",
   "metadata": {},
   "outputs": [
    {
     "name": "stdout",
     "output_type": "stream",
     "text": [
      "Wall time: 20 ms\n"
     ]
    },
    {
     "data": {
      "text/plain": [
       "[220466, 240233, 236613, 233478, 140720]"
      ]
     },
     "execution_count": 62,
     "metadata": {},
     "output_type": "execute_result"
    }
   ],
   "source": [
    "%%time\n",
    "get_recommendations_als_model(1, 5)"
   ]
  },
  {
   "cell_type": "markdown",
   "id": "de37a5fc",
   "metadata": {},
   "source": [
    "#### Evaluation"
   ]
  },
  {
   "cell_type": "markdown",
   "id": "f20f350c",
   "metadata": {},
   "source": [
    "#### Fonction permettant de faire l'évaluation pour tous les modèles de la famille Content Based\n",
    "- Implémente la **métrique dédiée**"
   ]
  },
  {
   "cell_type": "code",
   "execution_count": 63,
   "id": "b2c5f161",
   "metadata": {},
   "outputs": [],
   "source": [
    "def evaluation_recommendations_implicit_model(nb_recommandations, nb_users, get_recommendations_implicit_model):\n",
    "    if nb_users==0:\n",
    "        print(\"Nb users shall be > 0\")\n",
    "    else:\n",
    "        nb_interactions_total = 0\n",
    "        metric_total = 0\n",
    "        for i in range(min(nb_users, users_articles_sparse.shape[0])):\n",
    "            recommandations = get_recommendations_implicit_model(i, nb_recommandations)\n",
    "            user_id = df_data_train_implicit['user_id'].loc[df_data_train_implicit['user_num'] == i].iloc[0]\n",
    "            articles_read_for_user_in_test_set = get_articles_read_for_user_in_test_set(user_id)\n",
    "            nb_interactions_for_user = sum(x in articles_read_for_user_in_test_set for x in recommandations)\n",
    "            nb_interactions_total += nb_interactions_for_user\n",
    "            \n",
    "            nb_articles_read_for_user_in_test_set = get_nb_articles_read_for_user_in_test_set(user_id)\n",
    "            \n",
    "            if nb_articles_read_for_user_in_test_set == 0 :\n",
    "                metric_for_user = nb_interactions_for_user / ((nb_articles_read_for_user_in_test_set + 1) * 2)\n",
    "            else :\n",
    "                metric_for_user = nb_interactions_for_user / nb_articles_read_for_user_in_test_set\n",
    "            \n",
    "            metric_total += metric_for_user\n",
    "        \n",
    "        metric_normalized = metric_total / nb_users * 10000\n",
    "        \n",
    "        return nb_interactions_total, metric_normalized"
   ]
  },
  {
   "cell_type": "code",
   "execution_count": 64,
   "id": "f1bf24b0",
   "metadata": {},
   "outputs": [],
   "source": [
    "nb_interactions_cf_als, metric_cf_als = evaluation_recommendations_implicit_model(nb_recommandations, nb_users, get_recommendations_als_model)"
   ]
  },
  {
   "cell_type": "code",
   "execution_count": 65,
   "id": "aa7b9923",
   "metadata": {},
   "outputs": [
    {
     "name": "stdout",
     "output_type": "stream",
     "text": [
      "Evaluation Metric = 3.97\n"
     ]
    }
   ],
   "source": [
    "print(f\"Evaluation Metric = {metric_cf_als:.2f}\")"
   ]
  },
  {
   "cell_type": "markdown",
   "id": "681b0ae5",
   "metadata": {},
   "source": [
    "### Bayesian Personalized Ranking Model\n",
    "- Modèle de recommandation basé sur une analyse Bayésienne du problème et consistant à optimiser l'estimateur du maximum à posteriori"
   ]
  },
  {
   "cell_type": "code",
   "execution_count": 66,
   "id": "d1010110",
   "metadata": {},
   "outputs": [],
   "source": [
    "bpr_model = implicit.bpr.BayesianPersonalizedRanking(random_state=1)"
   ]
  },
  {
   "cell_type": "code",
   "execution_count": 67,
   "id": "ce63619e",
   "metadata": {},
   "outputs": [
    {
     "data": {
      "application/vnd.jupyter.widget-view+json": {
       "model_id": "0387ca9b72364f0b864953f28e896365",
       "version_major": 2,
       "version_minor": 0
      },
      "text/plain": [
       "  0%|          | 0/100 [00:00<?, ?it/s]"
      ]
     },
     "metadata": {},
     "output_type": "display_data"
    }
   ],
   "source": [
    "bpr_model.fit(articles_users_sparse)"
   ]
  },
  {
   "cell_type": "markdown",
   "id": "801a9d26",
   "metadata": {},
   "source": [
    "#### Get n recommandations for a user based on BPR Model"
   ]
  },
  {
   "cell_type": "code",
   "execution_count": 68,
   "id": "521b3554",
   "metadata": {},
   "outputs": [],
   "source": [
    "def get_recommendations_bpr_model(user_num, top_n):\n",
    "    if user_num in range(users_articles_sparse.shape[0]):\n",
    "        recommendations = bpr_model.recommend(user_num, users_articles_sparse, N=top_n, filter_already_liked_items=True)\n",
    "        \n",
    "        articles_recommended = []\n",
    "        for item in recommendations:\n",
    "            idx, _ = item\n",
    "            articles_recommended.append(df_data_train_implicit['article_id'].loc[df_data_train_implicit['article_num'] == idx].iloc[0])\n",
    "        \n",
    "        return articles_recommended\n",
    "    else:\n",
    "        print(\"Error : User num does not exist\")"
   ]
  },
  {
   "cell_type": "code",
   "execution_count": 69,
   "id": "c01d8243",
   "metadata": {},
   "outputs": [
    {
     "name": "stdout",
     "output_type": "stream",
     "text": [
      "Wall time: 22 ms\n"
     ]
    },
    {
     "data": {
      "text/plain": [
       "[237209, 220466, 237356, 233984, 233768]"
      ]
     },
     "execution_count": 69,
     "metadata": {},
     "output_type": "execute_result"
    }
   ],
   "source": [
    "%%time\n",
    "get_recommendations_bpr_model(1, 5)"
   ]
  },
  {
   "cell_type": "markdown",
   "id": "30e2bc21",
   "metadata": {},
   "source": [
    "#### Evaluation"
   ]
  },
  {
   "cell_type": "code",
   "execution_count": 70,
   "id": "d94669d7",
   "metadata": {},
   "outputs": [],
   "source": [
    "nb_interactions_cf_bpr, metric_cf_bpr = evaluation_recommendations_implicit_model(nb_recommandations, nb_users, get_recommendations_bpr_model)"
   ]
  },
  {
   "cell_type": "code",
   "execution_count": 71,
   "id": "c04bc845",
   "metadata": {},
   "outputs": [
    {
     "name": "stdout",
     "output_type": "stream",
     "text": [
      "Evaluation Metric = 1.16\n"
     ]
    }
   ],
   "source": [
    "print(f\"Evaluation Metric = {metric_cf_bpr:.2f}\")"
   ]
  },
  {
   "cell_type": "markdown",
   "id": "2ab8b72e",
   "metadata": {},
   "source": [
    "### Logistic Matrix Factorization Model\n",
    "- Modèle de recommandation basé sur une approche probabiliste dans laquelle la préférence d'un utilisateur est modélisée par une fonction logistique"
   ]
  },
  {
   "cell_type": "code",
   "execution_count": 72,
   "id": "c6933705",
   "metadata": {},
   "outputs": [],
   "source": [
    "lmf_model = implicit.lmf.LogisticMatrixFactorization(random_state=1)"
   ]
  },
  {
   "cell_type": "code",
   "execution_count": 73,
   "id": "53ca15bd",
   "metadata": {},
   "outputs": [
    {
     "name": "stderr",
     "output_type": "stream",
     "text": [
      "100%|██████████| 30/30 [00:28<00:00,  1.04it/s]\n"
     ]
    }
   ],
   "source": [
    "lmf_model.fit(articles_users_sparse)"
   ]
  },
  {
   "cell_type": "markdown",
   "id": "80b15e76",
   "metadata": {},
   "source": [
    "#### Get n recommandations for a user based on LMF Model"
   ]
  },
  {
   "cell_type": "code",
   "execution_count": 74,
   "id": "59d67f28",
   "metadata": {},
   "outputs": [],
   "source": [
    "def get_recommendations_lmf_model(user_num, top_n):\n",
    "    if user_num in range(users_articles_sparse.shape[0]):\n",
    "        recommendations = lmf_model.recommend(user_num, users_articles_sparse, N=top_n, filter_already_liked_items=True)\n",
    "        \n",
    "        articles_recommended = []\n",
    "        for item in recommendations:\n",
    "            idx, _ = item\n",
    "            articles_recommended.append(df_data_train_implicit['article_id'].loc[df_data_train_implicit['article_num'] == idx].iloc[0])\n",
    "        \n",
    "        return articles_recommended\n",
    "    else:\n",
    "        print(\"Error : User num does not exist\")"
   ]
  },
  {
   "cell_type": "code",
   "execution_count": 75,
   "id": "831b47b7",
   "metadata": {},
   "outputs": [
    {
     "name": "stdout",
     "output_type": "stream",
     "text": [
      "Wall time: 21 ms\n"
     ]
    },
    {
     "data": {
      "text/plain": [
       "[283928, 220466, 57490, 157300, 70999]"
      ]
     },
     "execution_count": 75,
     "metadata": {},
     "output_type": "execute_result"
    }
   ],
   "source": [
    "%%time\n",
    "get_recommendations_lmf_model(1, 5)"
   ]
  },
  {
   "cell_type": "markdown",
   "id": "3cf1ac1c",
   "metadata": {},
   "source": [
    "#### Evaluation"
   ]
  },
  {
   "cell_type": "code",
   "execution_count": 76,
   "id": "030357a1",
   "metadata": {},
   "outputs": [],
   "source": [
    "nb_interactions_cf_lmf, metric_cf_lmf = evaluation_recommendations_implicit_model(nb_recommandations, nb_users, get_recommendations_lmf_model)"
   ]
  },
  {
   "cell_type": "code",
   "execution_count": 77,
   "id": "0556d8e6",
   "metadata": {},
   "outputs": [
    {
     "name": "stdout",
     "output_type": "stream",
     "text": [
      "Evaluation Metric = 2.63\n"
     ]
    }
   ],
   "source": [
    "print(f\"Evaluation Metric = {metric_cf_lmf:.2f}\")"
   ]
  },
  {
   "cell_type": "markdown",
   "id": "d0e7d6fa",
   "metadata": {},
   "source": [
    "### Memory based\n",
    "- Modèles basés sur l'historique des utilisateurs"
   ]
  },
  {
   "cell_type": "markdown",
   "id": "1d76e14b",
   "metadata": {},
   "source": [
    "### Nearest Neighbours with Cosine Recommender Model\n",
    "- Modèle de la famille Item based\n",
    "- Modèle Nearest Neighbours (plus proches voisins) avec similarité cosinus\n",
    "- La recherche des plus proches voisins se fait sur la similarité entre les items\n",
    "- La similarité entre les items est recherché dans la matrice Utilisateurs - Articles en utilisant un calcul de similarité cosinus"
   ]
  },
  {
   "cell_type": "code",
   "execution_count": 78,
   "id": "3224e32a",
   "metadata": {},
   "outputs": [],
   "source": [
    "nncosine_model = implicit.nearest_neighbours.CosineRecommender()"
   ]
  },
  {
   "cell_type": "code",
   "execution_count": 79,
   "id": "7429b0fc",
   "metadata": {},
   "outputs": [
    {
     "data": {
      "application/vnd.jupyter.widget-view+json": {
       "model_id": "8d836c92fd5e41ecafacf61eac66ce75",
       "version_major": 2,
       "version_minor": 0
      },
      "text/plain": [
       "  0%|          | 0/17710 [00:00<?, ?it/s]"
      ]
     },
     "metadata": {},
     "output_type": "display_data"
    }
   ],
   "source": [
    "nncosine_model.fit(articles_users_sparse)"
   ]
  },
  {
   "cell_type": "markdown",
   "id": "a615e1a2",
   "metadata": {},
   "source": [
    "#### Get n recommandations for a user based on Nearest Neighbours with Cosine Recommender Model"
   ]
  },
  {
   "cell_type": "code",
   "execution_count": 80,
   "id": "1f2d4ac3",
   "metadata": {},
   "outputs": [],
   "source": [
    "def get_recommendations_nncosine_model(user_num, top_n):\n",
    "    if user_num in range(users_articles_sparse.shape[0]):\n",
    "        recommendations = nncosine_model.recommend(user_num, users_articles_sparse, N=top_n, filter_already_liked_items=True)\n",
    "        \n",
    "        articles_recommended = []\n",
    "        for item in recommendations:\n",
    "            idx, _ = item\n",
    "            articles_recommended.append(df_data_train_implicit['article_id'].loc[df_data_train_implicit['article_num'] == idx].iloc[0])\n",
    "        \n",
    "        return articles_recommended\n",
    "    else:\n",
    "        print(\"Error : User num does not exist\")"
   ]
  },
  {
   "cell_type": "code",
   "execution_count": 81,
   "id": "3e549c0e",
   "metadata": {},
   "outputs": [
    {
     "name": "stdout",
     "output_type": "stream",
     "text": [
      "Wall time: 19 ms\n"
     ]
    },
    {
     "data": {
      "text/plain": [
       "[96755, 272660, 255929, 255989, 312968]"
      ]
     },
     "execution_count": 81,
     "metadata": {},
     "output_type": "execute_result"
    }
   ],
   "source": [
    "%%time\n",
    "get_recommendations_nncosine_model(1, 5)"
   ]
  },
  {
   "cell_type": "markdown",
   "id": "08924b6e",
   "metadata": {},
   "source": [
    "#### Evaluation"
   ]
  },
  {
   "cell_type": "code",
   "execution_count": 82,
   "id": "5b43aca7",
   "metadata": {},
   "outputs": [],
   "source": [
    "nb_interactions_cf_nncosine, metric_cf_nncosine = evaluation_recommendations_implicit_model(nb_recommandations, nb_users, get_recommendations_nncosine_model)"
   ]
  },
  {
   "cell_type": "code",
   "execution_count": 83,
   "id": "70c70541",
   "metadata": {},
   "outputs": [
    {
     "name": "stdout",
     "output_type": "stream",
     "text": [
      "Evaluation Metric = 3.86\n"
     ]
    }
   ],
   "source": [
    "print(f\"Evaluation Metric = {metric_cf_nncosine:.2f}\")"
   ]
  },
  {
   "cell_type": "markdown",
   "id": "87169fc4",
   "metadata": {},
   "source": [
    "## Récapitulatif et choix du meilleur modèle"
   ]
  },
  {
   "cell_type": "code",
   "execution_count": 84,
   "id": "fa6b8e82",
   "metadata": {},
   "outputs": [],
   "source": [
    "list_model_names = ['Baseline_popularity', 'CB_categories', 'CB_similarities', 'CF_ALS', 'CF_BPR', 'CF_LMF', 'CF_NN_COSINE']\n",
    "list_metrics = [metric_baseline_popularity, metric_cb_category, metric_cb_similarity, metric_cf_als, metric_cf_bpr, metric_cf_lmf, metric_cf_nncosine]\n",
    "dict_results = {k:v for k,v in zip(list_model_names, list_metrics)}\n",
    "dict_results_sorted = dict(sorted(dict_results.items(), key=lambda item: item[1]))"
   ]
  },
  {
   "cell_type": "code",
   "execution_count": 85,
   "id": "29bf3900",
   "metadata": {},
   "outputs": [
    {
     "data": {
      "image/png": "[encoded data removed]",
      "text/plain": [
       "<Figure size 720x432 with 1 Axes>"
      ]
     },
     "metadata": {
      "needs_background": "light"
     },
     "output_type": "display_data"
    }
   ],
   "source": [
    "plt.figure(figsize=(10,6))\n",
    "plt.bar(range(len(dict_results_sorted)), dict_results_sorted.values(), 0.6, color='g')\n",
    "plt.title(\"Classement des modèles selon la Métrique d'évaluation\", fontsize=20)\n",
    "plt.xticks(range(len(dict_results_sorted)), dict_results_sorted.keys(), size='xx-large', rotation=90)\n",
    "plt.ylabel(\"Métrique\", size='xx-large')\n",
    "plt.yticks(size='xx-large')\n",
    "plt.show()"
   ]
  },
  {
   "cell_type": "markdown",
   "id": "1ec3be4a",
   "metadata": {},
   "source": [
    "## Conclusion :\n",
    "- **Tous les modèles implémentés sont meilleurs que le modèle simple de référence**\n",
    "- **Les temps de prédiction sont tous très rapides (réponse quasi immédiate)**\n",
    "- **Le meilleur modèle est le modèle Content Based basé sur la catégorie des articles**\n",
    ">**C'est ce modèle que nous allons déployer**"
   ]
  }
 ],
 "metadata": {
  "kernelspec": {
   "display_name": "Python 3",
   "language": "python",
   "name": "python3"
  },
  "language_info": {
   "codemirror_mode": {
    "name": "ipython",
    "version": 3
   },
   "file_extension": ".py",
   "mimetype": "text/x-python",
   "name": "python",
   "nbconvert_exporter": "python",
   "pygments_lexer": "ipython3",
   "version": "3.8.8"
  }
 },
 "nbformat": 4,
 "nbformat_minor": 5
}
