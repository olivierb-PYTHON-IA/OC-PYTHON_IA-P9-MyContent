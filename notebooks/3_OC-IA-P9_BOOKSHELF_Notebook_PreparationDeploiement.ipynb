{
 "cells": [
  {
   "cell_type": "markdown",
   "id": "785b5d5a",
   "metadata": {},
   "source": [
    "# OpenClassrooms - Ingenieur IA\n",
    "# Projet 9 - My Content - Partie 3 : Préparation au déploiement\n",
    "# Réalisez une application mobile de recommandation de contenu\n",
    "\n",
    "## Objectif du projet : \n",
    "- **Réalisez une application mobile de recommandation de contenu**\n",
    "\n",
    "## Plan :\n",
    "- **Partie 1 : Analyse et préparation des données**\n",
    "    - Chargement des données\n",
    "    - Analyse Exploratoire des Données\n",
    "    - Nettoyage des données\n",
    "    - Séparation des données\n",
    "    - Sauvegarde des données préparées\n",
    "        \n",
    "    \n",
    "- **Partie 2 : Modélisation et évaluation**\n",
    "    - Baseline recommandation\n",
    "        - Modèle basé sur la popularité des articles\n",
    "    - Content Based recommandation\n",
    "        - Modèle basé sur la catégorie des articles\n",
    "        - Modèle basé sur la similarité entre les articles\n",
    "    - Collaborative Filtering recommandation\n",
    "        - Model based\n",
    "            - ALS Model\n",
    "            - BPR Model\n",
    "            - LMF Model\n",
    "        - Memory based\n",
    "            - Nearest Neighbours with Cosine Recommender Model\n",
    "    - Récapitulatif et choix du meilleur modèle\n",
    "    \n",
    "    \n",
    "- **Partie 3 : Préparation au déploiement**\n",
    "    - Récupération du Workpsace Azure\n",
    "    - Identifications des éléments\n",
    "    - Enregistrement des données nécessaires au déploiement dans Azure"
   ]
  },
  {
   "cell_type": "markdown",
   "id": "51a706d0",
   "metadata": {},
   "source": [
    "# Partie 3 : Préparation au déploiement"
   ]
  },
  {
   "cell_type": "code",
   "execution_count": 2,
   "id": "73c44fe9",
   "metadata": {},
   "outputs": [],
   "source": [
    "import os\n",
    "import numpy as np\n",
    "import pandas as pd\n",
    "from azureml.core import Workspace\n",
    "from azure.storage.blob import BlobServiceClient\n",
    "from azureml.core.authentication import ServicePrincipalAuthentication\n",
    "from azureml.core.datastore import Datastore\n",
    "from azureml.data.data_reference import DataReference"
   ]
  },
  {
   "cell_type": "markdown",
   "id": "664460d6",
   "metadata": {},
   "source": [
    "## Récupération du Workpsace Azure\n",
    "- Authentification utilisant le service sécurisé et recommandé **'Service Principal Authentication'**"
   ]
  },
  {
   "cell_type": "code",
   "execution_count": 3,
   "id": "8978bfda",
   "metadata": {},
   "outputs": [],
   "source": [
    "svc_pr_password = os.environ['BOOKSHELF_SPA_PASSWORD']\n",
    "tenant_id = '894ad120-c276-4dfa-b218-d82b3fece6a7'\n",
    "application_id = '52dfe3c3-0fcc-47d0-bc76-0429bf40abc7'"
   ]
  },
  {
   "cell_type": "code",
   "execution_count": 4,
   "id": "3c8c0e03",
   "metadata": {},
   "outputs": [],
   "source": [
    "svc_pr = ServicePrincipalAuthentication(\n",
    "        tenant_id=tenant_id,\n",
    "        service_principal_id=application_id,\n",
    "        service_principal_password=svc_pr_password)"
   ]
  },
  {
   "cell_type": "code",
   "execution_count": 5,
   "id": "b8e9e498",
   "metadata": {},
   "outputs": [],
   "source": [
    "subscription_id = subscription_id = os.environ['AZURE_SUBSCRIPTION_ID']\n",
    "resource_group = 'p9bookshelffunctionapp'\n",
    "workspace_name = 'WS-IA-P9'\n",
    "ws = Workspace(\n",
    "        subscription_id=subscription_id,\n",
    "        resource_group=resource_group,\n",
    "        workspace_name=workspace_name,\n",
    "        auth=svc_pr)"
   ]
  },
  {
   "cell_type": "code",
   "execution_count": 6,
   "id": "bb8ec386",
   "metadata": {},
   "outputs": [
    {
     "name": "stdout",
     "output_type": "stream",
     "text": [
      "WS-IA-P9\tfrancecentral\tp9bookshelffunctionapp\n"
     ]
    }
   ],
   "source": [
    "print(ws.name, ws.location, ws.resource_group, sep='\\t')"
   ]
  },
  {
   "cell_type": "markdown",
   "id": "06a65a62",
   "metadata": {},
   "source": [
    "## Identifications des éléments"
   ]
  },
  {
   "cell_type": "code",
   "execution_count": 7,
   "id": "4a852bb9",
   "metadata": {},
   "outputs": [],
   "source": [
    "connect_str = os.getenv('AZURE_STORAGE_CONNECTION_STRING')"
   ]
  },
  {
   "cell_type": "code",
   "execution_count": 8,
   "id": "ccea24c4",
   "metadata": {},
   "outputs": [],
   "source": [
    "blob_datastore_name='datastore_bookshelf'"
   ]
  },
  {
   "cell_type": "code",
   "execution_count": 9,
   "id": "55bab4ab",
   "metadata": {},
   "outputs": [],
   "source": [
    "account_name=os.getenv(\"AZURE_ACCOUNT_NAME\")\n",
    "account_key=os.getenv(\"AZURE_ACCOUNT_KEY\")"
   ]
  },
  {
   "cell_type": "markdown",
   "id": "25375714",
   "metadata": {},
   "source": [
    "## Enregistrement des données nécessaires au déploiement dans Azure"
   ]
  },
  {
   "cell_type": "markdown",
   "id": "6f7b82be",
   "metadata": {},
   "source": [
    "### Création du Container Azure"
   ]
  },
  {
   "cell_type": "code",
   "execution_count": 10,
   "id": "d21b5ae3",
   "metadata": {},
   "outputs": [],
   "source": [
    "blob_service_client = BlobServiceClient.from_connection_string(connect_str)\n",
    "container_name = \"bookshelf-data\"\n",
    "container_client = blob_service_client.create_container(container_name)"
   ]
  },
  {
   "cell_type": "markdown",
   "id": "45d85a72",
   "metadata": {},
   "source": [
    "### Création du Datastore Azure"
   ]
  },
  {
   "cell_type": "code",
   "execution_count": 11,
   "id": "8c153487",
   "metadata": {},
   "outputs": [],
   "source": [
    "blob_datastore = Datastore.register_azure_blob_container(workspace=ws, \n",
    "                                                         datastore_name=blob_datastore_name, \n",
    "                                                         container_name=container_name, \n",
    "                                                         account_name=account_name,\n",
    "                                                         account_key=account_key)"
   ]
  },
  {
   "cell_type": "markdown",
   "id": "1db2707f",
   "metadata": {},
   "source": [
    "### Récupération du Datastore Azure"
   ]
  },
  {
   "cell_type": "code",
   "execution_count": 12,
   "id": "809df2a9",
   "metadata": {},
   "outputs": [],
   "source": [
    "datastore = Datastore.get(ws, blob_datastore_name)"
   ]
  },
  {
   "cell_type": "code",
   "execution_count": 13,
   "id": "13bea78d",
   "metadata": {},
   "outputs": [
    {
     "name": "stdout",
     "output_type": "stream",
     "text": [
      "AzureBlob wsiap91720168797\n"
     ]
    }
   ],
   "source": [
    "print(datastore.datastore_type, datastore.account_name)"
   ]
  },
  {
   "cell_type": "markdown",
   "id": "7d69f343",
   "metadata": {},
   "source": [
    "### Préparation des données pour la déploiement\n",
    "- On garde uniquement les données nécessaires au fonctionnemet du modèle déployé afin d'optimiser le fonctionnement de l'application"
   ]
  },
  {
   "cell_type": "code",
   "execution_count": 14,
   "id": "8697af71",
   "metadata": {},
   "outputs": [],
   "source": [
    "df_data_train = pd.read_csv('bookshelf_dataset_train.csv')"
   ]
  },
  {
   "cell_type": "code",
   "execution_count": 15,
   "id": "1d165379",
   "metadata": {},
   "outputs": [
    {
     "data": {
      "text/html": [
       "<div>\n",
       "<style scoped>\n",
       "    .dataframe tbody tr th:only-of-type {\n",
       "        vertical-align: middle;\n",
       "    }\n",
       "\n",
       "    .dataframe tbody tr th {\n",
       "        vertical-align: top;\n",
       "    }\n",
       "\n",
       "    .dataframe thead th {\n",
       "        text-align: right;\n",
       "    }\n",
       "</style>\n",
       "<table border=\"1\" class=\"dataframe\">\n",
       "  <thead>\n",
       "    <tr style=\"text-align: right;\">\n",
       "      <th></th>\n",
       "      <th>user_id</th>\n",
       "      <th>click_timestamp</th>\n",
       "      <th>click_country</th>\n",
       "      <th>click_region</th>\n",
       "      <th>article_id</th>\n",
       "      <th>category_id</th>\n",
       "      <th>words_count</th>\n",
       "      <th>click_datetime</th>\n",
       "    </tr>\n",
       "  </thead>\n",
       "  <tbody>\n",
       "    <tr>\n",
       "      <th>0</th>\n",
       "      <td>59</td>\n",
       "      <td>1506826800026</td>\n",
       "      <td>1</td>\n",
       "      <td>21</td>\n",
       "      <td>234853</td>\n",
       "      <td>375</td>\n",
       "      <td>140</td>\n",
       "      <td>2017-10-01 03:00:00.026</td>\n",
       "    </tr>\n",
       "    <tr>\n",
       "      <th>1</th>\n",
       "      <td>154</td>\n",
       "      <td>1506826804207</td>\n",
       "      <td>1</td>\n",
       "      <td>25</td>\n",
       "      <td>96663</td>\n",
       "      <td>209</td>\n",
       "      <td>206</td>\n",
       "      <td>2017-10-01 03:00:04.207</td>\n",
       "    </tr>\n",
       "    <tr>\n",
       "      <th>2</th>\n",
       "      <td>111</td>\n",
       "      <td>1506826814140</td>\n",
       "      <td>1</td>\n",
       "      <td>9</td>\n",
       "      <td>202436</td>\n",
       "      <td>327</td>\n",
       "      <td>333</td>\n",
       "      <td>2017-10-01 03:00:14.140</td>\n",
       "    </tr>\n",
       "    <tr>\n",
       "      <th>3</th>\n",
       "      <td>133</td>\n",
       "      <td>1506826823065</td>\n",
       "      <td>1</td>\n",
       "      <td>13</td>\n",
       "      <td>284847</td>\n",
       "      <td>412</td>\n",
       "      <td>266</td>\n",
       "      <td>2017-10-01 03:00:23.065</td>\n",
       "    </tr>\n",
       "    <tr>\n",
       "      <th>4</th>\n",
       "      <td>59</td>\n",
       "      <td>1506826830026</td>\n",
       "      <td>1</td>\n",
       "      <td>21</td>\n",
       "      <td>234995</td>\n",
       "      <td>375</td>\n",
       "      <td>155</td>\n",
       "      <td>2017-10-01 03:00:30.026</td>\n",
       "    </tr>\n",
       "    <tr>\n",
       "      <th>...</th>\n",
       "      <td>...</td>\n",
       "      <td>...</td>\n",
       "      <td>...</td>\n",
       "      <td>...</td>\n",
       "      <td>...</td>\n",
       "      <td>...</td>\n",
       "      <td>...</td>\n",
       "      <td>...</td>\n",
       "    </tr>\n",
       "    <tr>\n",
       "      <th>1033991</th>\n",
       "      <td>119210</td>\n",
       "      <td>1507506684388</td>\n",
       "      <td>1</td>\n",
       "      <td>20</td>\n",
       "      <td>233658</td>\n",
       "      <td>375</td>\n",
       "      <td>149</td>\n",
       "      <td>2017-10-08 23:51:24.388</td>\n",
       "    </tr>\n",
       "    <tr>\n",
       "      <th>1033992</th>\n",
       "      <td>235646</td>\n",
       "      <td>1507506685571</td>\n",
       "      <td>1</td>\n",
       "      <td>25</td>\n",
       "      <td>129434</td>\n",
       "      <td>252</td>\n",
       "      <td>168</td>\n",
       "      <td>2017-10-08 23:51:25.571</td>\n",
       "    </tr>\n",
       "    <tr>\n",
       "      <th>1033993</th>\n",
       "      <td>2504</td>\n",
       "      <td>1507506686115</td>\n",
       "      <td>1</td>\n",
       "      <td>25</td>\n",
       "      <td>202632</td>\n",
       "      <td>327</td>\n",
       "      <td>189</td>\n",
       "      <td>2017-10-08 23:51:26.115</td>\n",
       "    </tr>\n",
       "    <tr>\n",
       "      <th>1033994</th>\n",
       "      <td>25029</td>\n",
       "      <td>1507506686811</td>\n",
       "      <td>1</td>\n",
       "      <td>25</td>\n",
       "      <td>272202</td>\n",
       "      <td>399</td>\n",
       "      <td>206</td>\n",
       "      <td>2017-10-08 23:51:26.811</td>\n",
       "    </tr>\n",
       "    <tr>\n",
       "      <th>1033995</th>\n",
       "      <td>1445</td>\n",
       "      <td>1507506687423</td>\n",
       "      <td>1</td>\n",
       "      <td>5</td>\n",
       "      <td>286350</td>\n",
       "      <td>412</td>\n",
       "      <td>197</td>\n",
       "      <td>2017-10-08 23:51:27.423</td>\n",
       "    </tr>\n",
       "  </tbody>\n",
       "</table>\n",
       "<p>1033996 rows × 8 columns</p>\n",
       "</div>"
      ],
      "text/plain": [
       "         user_id  click_timestamp  click_country  click_region  article_id  \\\n",
       "0             59    1506826800026              1            21      234853   \n",
       "1            154    1506826804207              1            25       96663   \n",
       "2            111    1506826814140              1             9      202436   \n",
       "3            133    1506826823065              1            13      284847   \n",
       "4             59    1506826830026              1            21      234995   \n",
       "...          ...              ...            ...           ...         ...   \n",
       "1033991   119210    1507506684388              1            20      233658   \n",
       "1033992   235646    1507506685571              1            25      129434   \n",
       "1033993     2504    1507506686115              1            25      202632   \n",
       "1033994    25029    1507506686811              1            25      272202   \n",
       "1033995     1445    1507506687423              1             5      286350   \n",
       "\n",
       "         category_id  words_count           click_datetime  \n",
       "0                375          140  2017-10-01 03:00:00.026  \n",
       "1                209          206  2017-10-01 03:00:04.207  \n",
       "2                327          333  2017-10-01 03:00:14.140  \n",
       "3                412          266  2017-10-01 03:00:23.065  \n",
       "4                375          155  2017-10-01 03:00:30.026  \n",
       "...              ...          ...                      ...  \n",
       "1033991          375          149  2017-10-08 23:51:24.388  \n",
       "1033992          252          168  2017-10-08 23:51:25.571  \n",
       "1033993          327          189  2017-10-08 23:51:26.115  \n",
       "1033994          399          206  2017-10-08 23:51:26.811  \n",
       "1033995          412          197  2017-10-08 23:51:27.423  \n",
       "\n",
       "[1033996 rows x 8 columns]"
      ]
     },
     "execution_count": 15,
     "metadata": {},
     "output_type": "execute_result"
    }
   ],
   "source": [
    "df_data_train"
   ]
  },
  {
   "cell_type": "code",
   "execution_count": 16,
   "id": "10002000",
   "metadata": {},
   "outputs": [],
   "source": [
    "columns_to_drop = ['click_timestamp', 'click_country', 'click_region', 'words_count', 'click_datetime'] "
   ]
  },
  {
   "cell_type": "code",
   "execution_count": 17,
   "id": "03032022",
   "metadata": {},
   "outputs": [],
   "source": [
    "df_data_clean = df_data_train.drop(columns=columns_to_drop)"
   ]
  },
  {
   "cell_type": "code",
   "execution_count": 18,
   "id": "12cd083c",
   "metadata": {},
   "outputs": [
    {
     "data": {
      "text/html": [
       "<div>\n",
       "<style scoped>\n",
       "    .dataframe tbody tr th:only-of-type {\n",
       "        vertical-align: middle;\n",
       "    }\n",
       "\n",
       "    .dataframe tbody tr th {\n",
       "        vertical-align: top;\n",
       "    }\n",
       "\n",
       "    .dataframe thead th {\n",
       "        text-align: right;\n",
       "    }\n",
       "</style>\n",
       "<table border=\"1\" class=\"dataframe\">\n",
       "  <thead>\n",
       "    <tr style=\"text-align: right;\">\n",
       "      <th></th>\n",
       "      <th>user_id</th>\n",
       "      <th>article_id</th>\n",
       "      <th>category_id</th>\n",
       "    </tr>\n",
       "  </thead>\n",
       "  <tbody>\n",
       "    <tr>\n",
       "      <th>0</th>\n",
       "      <td>59</td>\n",
       "      <td>234853</td>\n",
       "      <td>375</td>\n",
       "    </tr>\n",
       "    <tr>\n",
       "      <th>1</th>\n",
       "      <td>154</td>\n",
       "      <td>96663</td>\n",
       "      <td>209</td>\n",
       "    </tr>\n",
       "    <tr>\n",
       "      <th>2</th>\n",
       "      <td>111</td>\n",
       "      <td>202436</td>\n",
       "      <td>327</td>\n",
       "    </tr>\n",
       "    <tr>\n",
       "      <th>3</th>\n",
       "      <td>133</td>\n",
       "      <td>284847</td>\n",
       "      <td>412</td>\n",
       "    </tr>\n",
       "    <tr>\n",
       "      <th>4</th>\n",
       "      <td>59</td>\n",
       "      <td>234995</td>\n",
       "      <td>375</td>\n",
       "    </tr>\n",
       "    <tr>\n",
       "      <th>...</th>\n",
       "      <td>...</td>\n",
       "      <td>...</td>\n",
       "      <td>...</td>\n",
       "    </tr>\n",
       "    <tr>\n",
       "      <th>1033991</th>\n",
       "      <td>119210</td>\n",
       "      <td>233658</td>\n",
       "      <td>375</td>\n",
       "    </tr>\n",
       "    <tr>\n",
       "      <th>1033992</th>\n",
       "      <td>235646</td>\n",
       "      <td>129434</td>\n",
       "      <td>252</td>\n",
       "    </tr>\n",
       "    <tr>\n",
       "      <th>1033993</th>\n",
       "      <td>2504</td>\n",
       "      <td>202632</td>\n",
       "      <td>327</td>\n",
       "    </tr>\n",
       "    <tr>\n",
       "      <th>1033994</th>\n",
       "      <td>25029</td>\n",
       "      <td>272202</td>\n",
       "      <td>399</td>\n",
       "    </tr>\n",
       "    <tr>\n",
       "      <th>1033995</th>\n",
       "      <td>1445</td>\n",
       "      <td>286350</td>\n",
       "      <td>412</td>\n",
       "    </tr>\n",
       "  </tbody>\n",
       "</table>\n",
       "<p>1033996 rows × 3 columns</p>\n",
       "</div>"
      ],
      "text/plain": [
       "         user_id  article_id  category_id\n",
       "0             59      234853          375\n",
       "1            154       96663          209\n",
       "2            111      202436          327\n",
       "3            133      284847          412\n",
       "4             59      234995          375\n",
       "...          ...         ...          ...\n",
       "1033991   119210      233658          375\n",
       "1033992   235646      129434          252\n",
       "1033993     2504      202632          327\n",
       "1033994    25029      272202          399\n",
       "1033995     1445      286350          412\n",
       "\n",
       "[1033996 rows x 3 columns]"
      ]
     },
     "execution_count": 18,
     "metadata": {},
     "output_type": "execute_result"
    }
   ],
   "source": [
    "df_data_clean"
   ]
  },
  {
   "cell_type": "markdown",
   "id": "f1e271e5",
   "metadata": {},
   "source": [
    "### Sauvegarde des données préparées pour le déploiement"
   ]
  },
  {
   "cell_type": "code",
   "execution_count": 19,
   "id": "f10c5c8b",
   "metadata": {},
   "outputs": [],
   "source": [
    "df_data_clean.to_csv(\"bookshelf_dataset_clean.csv\", index=False)"
   ]
  },
  {
   "cell_type": "markdown",
   "id": "38b1dc1a",
   "metadata": {},
   "source": [
    "### Upload des données préparées pour le déploiement dans le DataStore"
   ]
  },
  {
   "cell_type": "code",
   "execution_count": 20,
   "id": "12b27c54",
   "metadata": {},
   "outputs": [
    {
     "name": "stdout",
     "output_type": "stream",
     "text": [
      "Uploading an estimated of 1 files\n",
      "Uploading ./bookshelf_dataset_clean.csv\n",
      "Uploaded ./bookshelf_dataset_clean.csv, 1 files out of an estimated total of 1\n",
      "Uploaded 1 files\n"
     ]
    },
    {
     "data": {
      "text/plain": [
       "$AZUREML_DATAREFERENCE_44f356717f2545bdb2257dc0a8e30183"
      ]
     },
     "execution_count": 20,
     "metadata": {},
     "output_type": "execute_result"
    }
   ],
   "source": [
    "datastore.upload_files(['./bookshelf_dataset_clean.csv'], target_path='/bookshelf', overwrite=True, show_progress=True)"
   ]
  }
 ],
 "metadata": {
  "kernelspec": {
   "display_name": "Python 3",
   "language": "python",
   "name": "python3"
  },
  "language_info": {
   "codemirror_mode": {
    "name": "ipython",
    "version": 3
   },
   "file_extension": ".py",
   "mimetype": "text/x-python",
   "name": "python",
   "nbconvert_exporter": "python",
   "pygments_lexer": "ipython3",
   "version": "3.8.8"
  }
 },
 "nbformat": 4,
 "nbformat_minor": 5
}
